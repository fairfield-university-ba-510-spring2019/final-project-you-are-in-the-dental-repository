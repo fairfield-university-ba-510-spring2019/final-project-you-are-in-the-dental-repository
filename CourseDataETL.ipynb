{
 "cells": [
  {
   "cell_type": "code",
   "execution_count": 20,
   "metadata": {},
   "outputs": [],
   "source": [
    "# Load Data\n"
   ]
  },
  {
   "cell_type": "code",
   "execution_count": 21,
   "metadata": {},
   "outputs": [
    {
     "name": "stdout",
     "output_type": "stream",
     "text": [
      "The sql extension is already loaded. To reload it, use:\n",
      "  %reload_ext sql\n"
     ]
    }
   ],
   "source": [
    "%load_ext sql"
   ]
  },
  {
   "cell_type": "markdown",
   "metadata": {},
   "source": [
    "# Create Tables\n",
    "\n",
    "######  Inserting data into Instructors, Classrooms, Schedules, Courses & Sections, assigned Primary and Foreign Keys -> See ERD in Doc folder for reference"
   ]
  },
  {
   "cell_type": "markdown",
   "metadata": {},
   "source": [
    "#### Drop Tables"
   ]
  },
  {
   "cell_type": "code",
   "execution_count": 22,
   "metadata": {},
   "outputs": [
    {
     "name": "stdout",
     "output_type": "stream",
     "text": [
      "Done.\n",
      "Done.\n",
      "Done.\n",
      "Done.\n",
      "Done.\n"
     ]
    },
    {
     "data": {
      "text/plain": [
       "[]"
      ]
     },
     "execution_count": 22,
     "metadata": {},
     "output_type": "execute_result"
    }
   ],
   "source": [
    "%%sql\n",
    "\n",
    "sqlite:///CourseData.db\n",
    "DROP TABLE IF EXISTS COURSES;\n",
    "DROP TABLE IF EXISTS SECTIONS;\n",
    "DROP TABLE IF EXISTS CLASSROOMS;\n",
    "DROP TABLE IF EXISTS SCHEDULES;\n",
    "DROP TABLE IF EXISTS INSTRUCTORS;"
   ]
  },
  {
   "cell_type": "markdown",
   "metadata": {},
   "source": [
    "#### Create Courses Table"
   ]
  },
  {
   "cell_type": "code",
   "execution_count": 23,
   "metadata": {},
   "outputs": [
    {
     "name": "stdout",
     "output_type": "stream",
     "text": [
      " * sqlite:///CourseData.db\n",
      "Done.\n"
     ]
    },
    {
     "data": {
      "text/plain": [
       "[]"
      ]
     },
     "execution_count": 23,
     "metadata": {},
     "output_type": "execute_result"
    }
   ],
   "source": [
    "%%sql\n",
    "CREATE TABLE COURSES (\n",
    "    CID INTEGER PRIMARY KEY,\n",
    "    Program_Code TEXT NOT NULL,\n",
    "    Program_Name VARCHAR NOT NULL,\n",
    "    Catalog_ID VARCHAR NOT NULL,\n",
    "    Course_Title VARCHAR NOT NULL,\n",
    "    Description VARCHAR,\n",
    "    Credits VARCHAR NOT NULL,\n",
    "    Fees VARCHAR,\n",
    "    Prereqs VARCHAR,\n",
    "    Coreqs VARCHAR,\n",
    "    Attributes VARCHAR\n",
    ");\n"
   ]
  },
  {
   "cell_type": "markdown",
   "metadata": {},
   "source": [
    "#### Create Sections Table"
   ]
  },
  {
   "cell_type": "code",
   "execution_count": 24,
   "metadata": {},
   "outputs": [
    {
     "name": "stdout",
     "output_type": "stream",
     "text": [
      " * sqlite:///CourseData.db\n",
      "Done.\n"
     ]
    },
    {
     "data": {
      "text/plain": [
       "[]"
      ]
     },
     "execution_count": 24,
     "metadata": {},
     "output_type": "execute_result"
    }
   ],
   "source": [
    "%%sql\n",
    "CREATE TABLE SECTIONS (\n",
    "    SID INTEGER PRIMARY KEY,\n",
    "    Catalog_ID VARCHAR NOT NULL,\n",
    "    Meetings VARCHAR NOT NULL,\n",
    "    Primary_instructor VARCHAR NOT NULL,\n",
    "    Title VARCHAR NOT NULL,\n",
    "    Term VARCHAR NOT NULL,\n",
    "    act INTEGER NOT NULL,\n",
    "    rem INTEGER NOT NULL,\n",
    "    cap INTEGER NOT NULL,\n",
    "    CRN INTEGER NOT NULL,\n",
    "    section VARCHAR NOT NULL,\n",
    "    FOREIGN KEY (Catalog_ID) REFERENCES COURSES (Catalog_ID),\n",
    "    FOREIGN KEY (Meetings) REFERENCES SCHEDULES (Meetings),\n",
    "    FOREIGN KEY (Primary_instructor) REFERENCES INSTRUCTORS (Primary_instructor)\n",
    ");\n"
   ]
  },
  {
   "cell_type": "markdown",
   "metadata": {},
   "source": [
    "#### Create Classrooms Table"
   ]
  },
  {
   "cell_type": "code",
   "execution_count": 25,
   "metadata": {},
   "outputs": [
    {
     "name": "stdout",
     "output_type": "stream",
     "text": [
      " * sqlite:///CourseData.db\n",
      "Done.\n"
     ]
    },
    {
     "data": {
      "text/plain": [
       "[]"
      ]
     },
     "execution_count": 25,
     "metadata": {},
     "output_type": "execute_result"
    }
   ],
   "source": [
    "%%sql\n",
    "CREATE TABLE CLASSROOMS (\n",
    "     LID INTEGER PRIMARY KEY,\n",
    "     Location VARCHAR NOT NULL\n",
    ");\n"
   ]
  },
  {
   "cell_type": "markdown",
   "metadata": {},
   "source": [
    "#### Create Schedules Table"
   ]
  },
  {
   "cell_type": "code",
   "execution_count": 26,
   "metadata": {},
   "outputs": [
    {
     "name": "stdout",
     "output_type": "stream",
     "text": [
      " * sqlite:///CourseData.db\n",
      "Done.\n"
     ]
    },
    {
     "data": {
      "text/plain": [
       "[]"
      ]
     },
     "execution_count": 26,
     "metadata": {},
     "output_type": "execute_result"
    }
   ],
   "source": [
    "%%sql\n",
    "CREATE TABLE SCHEDULES (\n",
    "    SCID INTEGER PRIMARY KEY,\n",
    "    LID INTEGER NOT NULL,\n",
    "    Day TEXT NOT NULL,\n",
    "    Start VARCHAR NOT NULL,\n",
    "    End VARCHAR NOT NULL,\n",
    "    Meetings VARCHAR NOT NULL,\n",
    "    Timecodes VARCHAR NOT NULL,\n",
    "    FOREIGN KEY (LID) REFERENCES CLASSROOMS (LID)\n",
    ");\n"
   ]
  },
  {
   "cell_type": "markdown",
   "metadata": {},
   "source": [
    "#### Create Instructors Table"
   ]
  },
  {
   "cell_type": "code",
   "execution_count": 27,
   "metadata": {},
   "outputs": [
    {
     "name": "stdout",
     "output_type": "stream",
     "text": [
      " * sqlite:///CourseData.db\n",
      "Done.\n"
     ]
    },
    {
     "data": {
      "text/plain": [
       "[]"
      ]
     },
     "execution_count": 27,
     "metadata": {},
     "output_type": "execute_result"
    }
   ],
   "source": [
    "%%sql\n",
    "CREATE TABLE INSTRUCTORS (\n",
    "    IID INTEGER PRIMARY KEY,\n",
    "    Primary_instructor VARCHAR NOT NULL\n",
    ");\n"
   ]
  },
  {
   "cell_type": "markdown",
   "metadata": {},
   "source": [
    "# Insert Columns\n",
    "\n",
    "###### Inserting column data into Instructors, Classrooms, Schedules, Course & Sections using SELECT & DISTINCT"
   ]
  },
  {
   "cell_type": "code",
   "execution_count": 28,
   "metadata": {},
   "outputs": [
    {
     "name": "stdout",
     "output_type": "stream",
     "text": [
      "The sql extension is already loaded. To reload it, use:\n",
      "  %reload_ext sql\n"
     ]
    },
    {
     "data": {
      "text/plain": [
       "'Connected: @CourseData.db'"
      ]
     },
     "execution_count": 28,
     "metadata": {},
     "output_type": "execute_result"
    }
   ],
   "source": [
    "%load_ext sql\n",
    "%sql sqlite:///CourseData.db\n",
    "\n",
    "    "
   ]
  },
  {
   "cell_type": "code",
   "execution_count": 29,
   "metadata": {},
   "outputs": [
    {
     "data": {
      "text/plain": [
       "'Connected: @CourseData.db'"
      ]
     },
     "execution_count": 29,
     "metadata": {},
     "output_type": "execute_result"
    }
   ],
   "source": [
    "%%sql\n",
    "sqlite:///CourseData.db"
   ]
  },
  {
   "cell_type": "markdown",
   "metadata": {},
   "source": [
    "#### Insert Into Instructors"
   ]
  },
  {
   "cell_type": "code",
   "execution_count": 30,
   "metadata": {},
   "outputs": [
    {
     "name": "stdout",
     "output_type": "stream",
     "text": [
      " * sqlite:///CourseData.db\n",
      "(sqlite3.OperationalError) no such table: import_courses [SQL: 'INSERT INTO INSTRUCTORS (Primary_instructor)\\nSELECT DISTINCT Primary_instructor\\nFROM import_courses;'] (Background on this error at: http://sqlalche.me/e/e3q8)\n"
     ]
    }
   ],
   "source": [
    "%%sql\n",
    "INSERT INTO INSTRUCTORS (Primary_instructor)\n",
    "SELECT DISTINCT Primary_instructor\n",
    "FROM import_courses;"
   ]
  },
  {
   "cell_type": "markdown",
   "metadata": {},
   "source": [
    "#### Insert Into Classrooms\n"
   ]
  },
  {
   "cell_type": "code",
   "execution_count": 31,
   "metadata": {},
   "outputs": [
    {
     "name": "stdout",
     "output_type": "stream",
     "text": [
      " * sqlite:///CourseData.db\n",
      "(sqlite3.OperationalError) no such table: import_course_meetings [SQL: 'INSERT INTO CLASSROOMS (Location)\\nSELECT DISTINCT Location\\n    FROM import_course_meetings;'] (Background on this error at: http://sqlalche.me/e/e3q8)\n"
     ]
    }
   ],
   "source": [
    "%%sql\n",
    "INSERT INTO CLASSROOMS (Location)\n",
    "SELECT DISTINCT Location\n",
    "    FROM import_course_meetings;"
   ]
  },
  {
   "cell_type": "markdown",
   "metadata": {},
   "source": [
    "#### Insert Into Schedules\n",
    "\n",
    "###### Example of Using JOIN"
   ]
  },
  {
   "cell_type": "code",
   "execution_count": 32,
   "metadata": {},
   "outputs": [
    {
     "name": "stdout",
     "output_type": "stream",
     "text": [
      " * sqlite:///CourseData.db\n",
      "(sqlite3.OperationalError) no such table: import_course_meetings [SQL: 'INSERT INTO SCHEDULES (LID, Day, Start, End, Meetings, Timecodes)\\nSELECT DISTINCT LID, Day, Start, End, Meetings, Timecodes\\nFROM import_course_meetings\\n    JOIN CLASSROOMS ON (CLASSROOMS.Location=import_course_meetings.location)\\n    JOIN import_courses ON (import_courses.crn=import_course_meetings.crn AND import_courses.term=import_course_meetings.term)\\n;'] (Background on this error at: http://sqlalche.me/e/e3q8)\n"
     ]
    }
   ],
   "source": [
    "%%sql\n",
    "INSERT INTO SCHEDULES (LID, Day, Start, End, Meetings, Timecodes)\n",
    "SELECT DISTINCT LID, Day, Start, End, Meetings, Timecodes\n",
    "FROM import_course_meetings\n",
    "    JOIN CLASSROOMS ON (CLASSROOMS.Location=import_course_meetings.location)\n",
    "    JOIN import_courses ON (import_courses.crn=import_course_meetings.crn AND import_courses.term=import_course_meetings.term)\n",
    "; "
   ]
  },
  {
   "cell_type": "markdown",
   "metadata": {},
   "source": [
    "#### Insert Into Courses"
   ]
  },
  {
   "cell_type": "code",
   "execution_count": 33,
   "metadata": {},
   "outputs": [
    {
     "name": "stdout",
     "output_type": "stream",
     "text": [
      " * sqlite:///CourseData.db\n",
      "(sqlite3.OperationalError) no such table: import_CourseCatalogs [SQL: 'INSERT INTO COURSES (Program_code, Program_name, Catalog_Id, course_title, credits, prereqs, coreqs, fees, attributes, description)\\nSELECT DISTINCT Program_code, Program_name, Catalog_Id, course_title, credits, prereqs, coreqs, fees, attributes, description\\nFROM import_CourseCatalogs;'] (Background on this error at: http://sqlalche.me/e/e3q8)\n"
     ]
    }
   ],
   "source": [
    "%%sql\n",
    "INSERT INTO COURSES (Program_code, Program_name, Catalog_Id, course_title, credits, prereqs, coreqs, fees, attributes, description)\n",
    "SELECT DISTINCT Program_code, Program_name, Catalog_Id, course_title, credits, prereqs, coreqs, fees, attributes, description\n",
    "FROM import_CourseCatalogs;"
   ]
  },
  {
   "cell_type": "markdown",
   "metadata": {},
   "source": [
    "#### Insert Into Sections"
   ]
  },
  {
   "cell_type": "code",
   "execution_count": 34,
   "metadata": {},
   "outputs": [
    {
     "name": "stdout",
     "output_type": "stream",
     "text": [
      " * sqlite:///CourseData.db\n",
      "(sqlite3.OperationalError) no such table: import_Courses [SQL: 'INSERT INTO SECTIONS (Catalog_ID, Meetings, Primary_instructor, Title, Term, act, rem, cap, CRN, section)\\nSELECT DISTINCT Catalog_ID, Meetings, Primary_instructor, Title, Term, act, rem, cap, CRN, section\\nFROM import_Courses\\n;'] (Background on this error at: http://sqlalche.me/e/e3q8)\n"
     ]
    }
   ],
   "source": [
    "%%sql\n",
    "INSERT INTO SECTIONS (Catalog_ID, Meetings, Primary_instructor, Title, Term, act, rem, cap, CRN, section)\n",
    "SELECT DISTINCT Catalog_ID, Meetings, Primary_instructor, Title, Term, act, rem, cap, CRN, section\n",
    "FROM import_Courses\n",
    ";"
   ]
  },
  {
   "cell_type": "code",
   "execution_count": 35,
   "metadata": {},
   "outputs": [
    {
     "name": "stdout",
     "output_type": "stream",
     "text": [
      " * sqlite:///CourseData.db\n",
      "Done.\n"
     ]
    },
    {
     "data": {
      "text/html": [
       "<table>\n",
       "    <tr>\n",
       "        <th>COUNT (DISTINCT CID)</th>\n",
       "    </tr>\n",
       "    <tr>\n",
       "        <td>0</td>\n",
       "    </tr>\n",
       "</table>"
      ],
      "text/plain": [
       "[(0,)]"
      ]
     },
     "execution_count": 35,
     "metadata": {},
     "output_type": "execute_result"
    }
   ],
   "source": [
    "%%sql\n",
    "SELECT COUNT (DISTINCT CID)\n",
    "FROM COURSES\n",
    ";"
   ]
  },
  {
   "cell_type": "code",
   "execution_count": 36,
   "metadata": {},
   "outputs": [
    {
     "name": "stdout",
     "output_type": "stream",
     "text": [
      " * sqlite:///CourseData.db\n",
      "Done.\n",
      "Done.\n",
      "Done.\n"
     ]
    },
    {
     "data": {
      "text/plain": [
       "[]"
      ]
     },
     "execution_count": 36,
     "metadata": {},
     "output_type": "execute_result"
    }
   ],
   "source": [
    "%%sql\n",
    "\n",
    "DROP TABLE IF EXISTS import_courses;\n",
    "DROP TABLE IF EXISTS import_CourseCatalogs;\n",
    "DROP TABLE IF EXISTS import_course_meetings;"
   ]
  },
  {
   "cell_type": "code",
   "execution_count": 37,
   "metadata": {},
   "outputs": [
    {
     "name": "stdout",
     "output_type": "stream",
     "text": [
      " * sqlite:///CourseData.db\n",
      "Done.\n"
     ]
    },
    {
     "data": {
      "text/plain": [
       "[]"
      ]
     },
     "execution_count": 37,
     "metadata": {},
     "output_type": "execute_result"
    }
   ],
   "source": [
    "%%sql\n",
    "\n",
    "VACUUM;"
   ]
  },
  {
   "cell_type": "code",
   "execution_count": null,
   "metadata": {},
   "outputs": [],
   "source": []
  },
  {
   "cell_type": "code",
   "execution_count": null,
   "metadata": {},
   "outputs": [],
   "source": []
  }
 ],
 "metadata": {
  "kernelspec": {
   "display_name": "Python 3",
   "language": "python",
   "name": "python3"
  },
  "language_info": {
   "codemirror_mode": {
    "name": "ipython",
    "version": 3
   },
   "file_extension": ".py",
   "mimetype": "text/x-python",
   "name": "python",
   "nbconvert_exporter": "python",
   "pygments_lexer": "ipython3",
   "version": "3.6.5"
  }
 },
 "nbformat": 4,
 "nbformat_minor": 2
}
