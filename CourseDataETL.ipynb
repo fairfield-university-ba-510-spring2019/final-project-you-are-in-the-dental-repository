{
 "cells": [
  {
   "cell_type": "code",
   "execution_count": 247,
   "metadata": {},
   "outputs": [
    {
     "name": "stdout",
     "output_type": "stream",
     "text": [
      "The sql extension is already loaded. To reload it, use:\n",
      "  %reload_ext sql\n"
     ]
    }
   ],
   "source": [
    "%load_ext sql\n",
    "\n",
    "\n"
   ]
  },
  {
   "cell_type": "code",
   "execution_count": 248,
   "metadata": {},
   "outputs": [
    {
     "name": "stdout",
     "output_type": "stream",
     "text": [
      "Done.\n",
      "Done.\n",
      "Done.\n",
      "Done.\n",
      "Done.\n",
      "Done.\n"
     ]
    },
    {
     "data": {
      "text/plain": [
       "[]"
      ]
     },
     "execution_count": 248,
     "metadata": {},
     "output_type": "execute_result"
    }
   ],
   "source": [
    "%%sql\n",
    "sqlite:///CourseData.db\n",
    "DROP TABLE IF EXISTS PROGRAMS;\n",
    "DROP TABLE IF EXISTS COURSES;\n",
    "DROP TABLE IF EXISTS SECTIONS;\n",
    "DROP TABLE IF EXISTS CLASSROOMS;\n",
    "DROP TABLE IF EXISTS SCHEDULES;\n",
    "DROP TABLE IF EXISTS INSTRUCTORS;"
   ]
  },
  {
   "cell_type": "code",
   "execution_count": 249,
   "metadata": {},
   "outputs": [
    {
     "name": "stdout",
     "output_type": "stream",
     "text": [
      " * sqlite:///CourseData.db\n",
      "Done.\n"
     ]
    },
    {
     "data": {
      "text/plain": [
       "[]"
      ]
     },
     "execution_count": 249,
     "metadata": {},
     "output_type": "execute_result"
    }
   ],
   "source": [
    "%%sql\n",
    "CREATE TABLE PROGRAMS (\n",
    "    PID INTEGER PRIMARY KEY,\n",
    "    Catalog_ID VARCHAR NOT NULL,\n",
    "    Course_Title VARCHAR NOT NULL,\n",
    "    Program_Name VARCHAR NOT NULL,\n",
    "    Program_Code TEXT NOT NULL,\n",
    "    Attributes VARCHAR\n",
    ");\n"
   ]
  },
  {
   "cell_type": "code",
   "execution_count": 250,
   "metadata": {},
   "outputs": [
    {
     "name": "stdout",
     "output_type": "stream",
     "text": [
      " * sqlite:///CourseData.db\n",
      "Done.\n"
     ]
    },
    {
     "data": {
      "text/plain": [
       "[]"
      ]
     },
     "execution_count": 250,
     "metadata": {},
     "output_type": "execute_result"
    }
   ],
   "source": [
    "%%sql\n",
    "CREATE TABLE COURSES (\n",
    "    CID INTEGER PRIMARY KEY,\n",
    "    PID INTEGER NOT NULL,\n",
    "    Description VARCHAR,\n",
    "    Credits VARCHAR,\n",
    "    Fees VARCHAR,\n",
    "    Title VARCHAR NOT NULL,\n",
    "    Prereqs VARCHAR,\n",
    "    Coreqs VARCHAR,\n",
    "    FOREIGN KEY (PID) REFERENCES PROGRAMS (PID)\n",
    ");\n"
   ]
  },
  {
   "cell_type": "markdown",
   "metadata": {},
   "source": [
    "%%sql\n",
    "CREATE TABLE SECTIONS (\n",
    "    SID INTEGER PRIMARY KEY,\n",
    "    CID INTEGER NOT NULL,\n",
    "    SCID INTEGER NOT NULL,\n",
    "    IID INTEGER NOT NULL,\n",
    "    Term VARCHAR NOT NULL,\n",
    "    act INTEGER NOT NULL,\n",
    "    rem INTEGER NOT NULL,\n",
    "    cap INTEGER NOT NULL,\n",
    "    CRN INTEGER NOT NULL,\n",
    "    section VARCHAR NOT NULL,\n",
    "    FOREIGN KEY (CID) REFERENCES COURSES (CID),\n",
    "    FOREIGN KEY (SCID) REFERENCES SCHEDULES (SCID),\n",
    "    FOREIGN KEY (IID) REFERENCES INSTRUCTORS (IID)\n",
    ");\n"
   ]
  },
  {
   "cell_type": "code",
   "execution_count": 251,
   "metadata": {},
   "outputs": [
    {
     "name": "stdout",
     "output_type": "stream",
     "text": [
      " * sqlite:///CourseData.db\n",
      "Done.\n"
     ]
    },
    {
     "data": {
      "text/plain": [
       "[]"
      ]
     },
     "execution_count": 251,
     "metadata": {},
     "output_type": "execute_result"
    }
   ],
   "source": [
    "%%sql\n",
    "CREATE TABLE CLASSROOMS (\n",
    "     LID PRIMARY KEY,\n",
    "     Location VARCHAR NOT NULL\n",
    ");\n"
   ]
  },
  {
   "cell_type": "code",
   "execution_count": 252,
   "metadata": {},
   "outputs": [
    {
     "name": "stdout",
     "output_type": "stream",
     "text": [
      " * sqlite:///CourseData.db\n",
      "Done.\n"
     ]
    },
    {
     "data": {
      "text/plain": [
       "[]"
      ]
     },
     "execution_count": 252,
     "metadata": {},
     "output_type": "execute_result"
    }
   ],
   "source": [
    "%%sql\n",
    "CREATE TABLE SCHEDULES (\n",
    "    SCID TEXT PRIMARY KEY,\n",
    "    LID INTEGER NOT NULL,\n",
    "    Day TEXT NOT NULL,\n",
    "    Start VARCHAR NOT NULL,\n",
    "    End VARCHAR NOT NULL,\n",
    "    Meetings TEXT NOT NULL,\n",
    "    Timecodes VARCHAR NOT NULL,\n",
    "    FOREIGN KEY (LID) REFERENCES CLASSROOMS (Location)\n",
    ");\n"
   ]
  },
  {
   "cell_type": "code",
   "execution_count": 253,
   "metadata": {},
   "outputs": [
    {
     "name": "stdout",
     "output_type": "stream",
     "text": [
      " * sqlite:///CourseData.db\n",
      "Done.\n"
     ]
    },
    {
     "data": {
      "text/plain": [
       "[]"
      ]
     },
     "execution_count": 253,
     "metadata": {},
     "output_type": "execute_result"
    }
   ],
   "source": [
    "%%sql\n",
    "CREATE TABLE INSTRUCTORS (\n",
    "    IID INTEGER PRIMARY KEY,\n",
    "    Primary_instructor TEXT NOT NULL\n",
    ");\n"
   ]
  },
  {
   "cell_type": "code",
   "execution_count": 254,
   "metadata": {},
   "outputs": [
    {
     "name": "stdout",
     "output_type": "stream",
     "text": [
      "The sql extension is already loaded. To reload it, use:\n",
      "  %reload_ext sql\n"
     ]
    },
    {
     "data": {
      "text/plain": [
       "'Connected: @CourseData.db'"
      ]
     },
     "execution_count": 254,
     "metadata": {},
     "output_type": "execute_result"
    }
   ],
   "source": [
    "%load_ext sql\n",
    "%sql sqlite:///CourseData.db\n",
    "\n",
    "    "
   ]
  },
  {
   "cell_type": "code",
   "execution_count": 255,
   "metadata": {},
   "outputs": [
    {
     "data": {
      "text/plain": [
       "'Connected: @CourseData.db'"
      ]
     },
     "execution_count": 255,
     "metadata": {},
     "output_type": "execute_result"
    }
   ],
   "source": [
    "%%sql\n",
    "sqlite:///CourseData.db\n"
   ]
  },
  {
   "cell_type": "code",
   "execution_count": 256,
   "metadata": {},
   "outputs": [
    {
     "name": "stdout",
     "output_type": "stream",
     "text": [
      " * sqlite:///CourseData.db\n",
      "2221 rows affected.\n"
     ]
    },
    {
     "data": {
      "text/plain": [
       "[]"
      ]
     },
     "execution_count": 256,
     "metadata": {},
     "output_type": "execute_result"
    }
   ],
   "source": [
    "%%sql\n",
    "INSERT INTO PROGRAMS (Catalog_ID, Course_Title, Program_Name, Program_Code, Attributes)\n",
    "    SELECT DISTINCT Catalog_ID, Course_Title, Program_Name, Program_Code, Attributes\n",
    "    FROM import_CourseCatalogs;\n",
    "\n"
   ]
  },
  {
   "cell_type": "code",
   "execution_count": 257,
   "metadata": {},
   "outputs": [
    {
     "name": "stdout",
     "output_type": "stream",
     "text": [
      " * sqlite:///CourseData.db\n",
      "1105 rows affected.\n"
     ]
    },
    {
     "data": {
      "text/plain": [
       "[]"
      ]
     },
     "execution_count": 257,
     "metadata": {},
     "output_type": "execute_result"
    }
   ],
   "source": [
    "%%sql\n",
    "INSERT INTO INSTRUCTORS (Primary_instructor)\n",
    "SELECT DISTINCT Primary_instructor\n",
    "FROM import_courses;\n"
   ]
  },
  {
   "cell_type": "code",
   "execution_count": 258,
   "metadata": {},
   "outputs": [
    {
     "name": "stdout",
     "output_type": "stream",
     "text": [
      " * sqlite:///CourseData.db\n",
      "208 rows affected.\n"
     ]
    },
    {
     "data": {
      "text/plain": [
       "[]"
      ]
     },
     "execution_count": 258,
     "metadata": {},
     "output_type": "execute_result"
    }
   ],
   "source": [
    "%%sql\n",
    "INSERT INTO CLASSROOMS (Location)\n",
    "SELECT DISTINCT Location\n",
    "    FROM import_course_meetings;\n"
   ]
  },
  {
   "cell_type": "code",
   "execution_count": 262,
   "metadata": {},
   "outputs": [
    {
     "name": "stdout",
     "output_type": "stream",
     "text": [
      " * sqlite:///CourseData.db\n",
      "(sqlite3.OperationalError) ambiguous column name: Day [SQL: 'INSERT INTO SCHEDULES (LID, Day, Start, End, Meetings, Timecodes)\\nSELECT DISTINCT LID, Day, Start, End, Meetings, Timecodes\\n    FROM import_course_meetings\\n    JOIN CLASSROOMS ON (CLASSROOMS.Location=import_course_meetings.location)\\n    JOIN import_course_meetings ON (import_course_meetings.Meetings=import_courses.Meetings);'] (Background on this error at: http://sqlalche.me/e/e3q8)\n"
     ]
    }
   ],
   "source": [
    "%%sql\n",
    "INSERT INTO SCHEDULES (LID, Day, Start, End, Meetings, Timecodes)\n",
    "SELECT DISTINCT LID, Day, Start, End, Meetings, Timecodes\n",
    "    FROM import_course_meetings\n",
    "    JOIN CLASSROOMS ON (CLASSROOMS.Location=import_course_meetings.location)\n",
    "    JOIN import_course_meetings ON (import_course_meetings.Meetings=import_courses.Meetings);\n",
    " "
   ]
  },
  {
   "cell_type": "code",
   "execution_count": null,
   "metadata": {},
   "outputs": [],
   "source": []
  },
  {
   "cell_type": "code",
   "execution_count": null,
   "metadata": {},
   "outputs": [],
   "source": []
  },
  {
   "cell_type": "code",
   "execution_count": null,
   "metadata": {},
   "outputs": [],
   "source": []
  },
  {
   "cell_type": "code",
   "execution_count": null,
   "metadata": {},
   "outputs": [],
   "source": []
  },
  {
   "cell_type": "code",
   "execution_count": null,
   "metadata": {},
   "outputs": [],
   "source": []
  }
 ],
 "metadata": {
  "kernelspec": {
   "display_name": "Python 3",
   "language": "python",
   "name": "python3"
  },
  "language_info": {
   "codemirror_mode": {
    "name": "ipython",
    "version": 3
   },
   "file_extension": ".py",
   "mimetype": "text/x-python",
   "name": "python",
   "nbconvert_exporter": "python",
   "pygments_lexer": "ipython3",
   "version": "3.6.5"
  }
 },
 "nbformat": 4,
 "nbformat_minor": 2
}
