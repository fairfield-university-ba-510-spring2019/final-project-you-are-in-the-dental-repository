{
 "cells": [
  {
   "cell_type": "code",
   "execution_count": 189,
   "metadata": {},
   "outputs": [
    {
     "name": "stdout",
     "output_type": "stream",
     "text": [
      "The sql extension is already loaded. To reload it, use:\n",
      "  %reload_ext sql\n"
     ]
    }
   ],
   "source": [
    "%load_ext sql\n",
    "\n",
    "\n"
   ]
  },
  {
   "cell_type": "code",
   "execution_count": 190,
   "metadata": {},
   "outputs": [
    {
     "name": "stdout",
     "output_type": "stream",
     "text": [
      "Done.\n",
      "Done.\n",
      "Done.\n",
      "Done.\n",
      "Done.\n"
     ]
    },
    {
     "data": {
      "text/plain": [
       "[]"
      ]
     },
     "execution_count": 190,
     "metadata": {},
     "output_type": "execute_result"
    }
   ],
   "source": [
    "%%sql\n",
    "sqlite:///CourseData.db\n",
    "DROP TABLE IF EXISTS COURSES;\n",
    "DROP TABLE IF EXISTS SECTIONS;\n",
    "DROP TABLE IF EXISTS CLASSROOMS;\n",
    "DROP TABLE IF EXISTS SCHEDULES;\n",
    "DROP TABLE IF EXISTS INSTRUCTORS;"
   ]
  },
  {
   "cell_type": "code",
   "execution_count": 191,
   "metadata": {},
   "outputs": [
    {
     "name": "stdout",
     "output_type": "stream",
     "text": [
      " * sqlite:///CourseData.db\n",
      "Done.\n"
     ]
    },
    {
     "data": {
      "text/plain": [
       "[]"
      ]
     },
     "execution_count": 191,
     "metadata": {},
     "output_type": "execute_result"
    }
   ],
   "source": [
    "%%sql\n",
    "CREATE TABLE COURSES (\n",
    "    CID INTEGER PRIMARY KEY,\n",
    "    Program_Code TEXT NOT NULL,\n",
    "    Program_Name VARCHAR NOT NULL,\n",
    "    Catalog_ID VARCHAR NOT NULL,\n",
    "    Course_Title VARCHAR NOT NULL,\n",
    "    Description VARCHAR,\n",
    "    Credits VARCHAR NOT NULL,\n",
    "    Fees VARCHAR,\n",
    "    Prereqs VARCHAR,\n",
    "    Coreqs VARCHAR,\n",
    "    Attributes VARCHAR\n",
    ");\n"
   ]
  },
  {
   "cell_type": "code",
   "execution_count": 192,
   "metadata": {},
   "outputs": [
    {
     "name": "stdout",
     "output_type": "stream",
     "text": [
      " * sqlite:///CourseData.db\n",
      "Done.\n"
     ]
    },
    {
     "data": {
      "text/plain": [
       "[]"
      ]
     },
     "execution_count": 192,
     "metadata": {},
     "output_type": "execute_result"
    }
   ],
   "source": [
    "%%sql\n",
    "CREATE TABLE SECTIONS (\n",
    "    SID INTEGER PRIMARY KEY,\n",
    "    CID INTEGER NOT NULL,\n",
    "    SCID INTEGER NOT NULL,\n",
    "    IID INTEGER NOT NULL,\n",
    "    Term VARCHAR NOT NULL,\n",
    "    act INTEGER NOT NULL,\n",
    "    rem INTEGER NOT NULL,\n",
    "    cap INTEGER NOT NULL,\n",
    "    CRN INTEGER NOT NULL,\n",
    "    section VARCHAR NOT NULL,\n",
    "    Title VARCHAR NOT NULL,\n",
    "    FOREIGN KEY (CID) REFERENCES COURSES (CID),\n",
    "    FOREIGN KEY (SCID) REFERENCES SCHEDULES (SCID),\n",
    "    FOREIGN KEY (IID) REFERENCES INSTRUCTORS (IID)\n",
    ");\n"
   ]
  },
  {
   "cell_type": "code",
   "execution_count": 193,
   "metadata": {},
   "outputs": [
    {
     "name": "stdout",
     "output_type": "stream",
     "text": [
      " * sqlite:///CourseData.db\n",
      "Done.\n"
     ]
    },
    {
     "data": {
      "text/plain": [
       "[]"
      ]
     },
     "execution_count": 193,
     "metadata": {},
     "output_type": "execute_result"
    }
   ],
   "source": [
    "%%sql\n",
    "CREATE TABLE CLASSROOMS (\n",
    "     LID INTEGER PRIMARY KEY,\n",
    "     Location VARCHAR NOT NULL\n",
    ");\n"
   ]
  },
  {
   "cell_type": "code",
   "execution_count": 194,
   "metadata": {},
   "outputs": [
    {
     "name": "stdout",
     "output_type": "stream",
     "text": [
      " * sqlite:///CourseData.db\n",
      "Done.\n"
     ]
    },
    {
     "data": {
      "text/plain": [
       "[]"
      ]
     },
     "execution_count": 194,
     "metadata": {},
     "output_type": "execute_result"
    }
   ],
   "source": [
    "%%sql\n",
    "CREATE TABLE SCHEDULES (\n",
    "    SCID INTEGER PRIMARY KEY,\n",
    "    LID INTEGER NOT NULL,\n",
    "    Day TEXT NOT NULL,\n",
    "    Start VARCHAR NOT NULL,\n",
    "    End VARCHAR NOT NULL,\n",
    "    Meetings VARCHAR NOT NULL,\n",
    "    Timecodes VARCHAR NOT NULL,\n",
    "    FOREIGN KEY (LID) REFERENCES CLASSROOMS (LID)\n",
    ");\n"
   ]
  },
  {
   "cell_type": "code",
   "execution_count": 195,
   "metadata": {},
   "outputs": [
    {
     "name": "stdout",
     "output_type": "stream",
     "text": [
      " * sqlite:///CourseData.db\n",
      "Done.\n"
     ]
    },
    {
     "data": {
      "text/plain": [
       "[]"
      ]
     },
     "execution_count": 195,
     "metadata": {},
     "output_type": "execute_result"
    }
   ],
   "source": [
    "%%sql\n",
    "CREATE TABLE INSTRUCTORS (\n",
    "    IID INTEGER PRIMARY KEY,\n",
    "    Primary_instructor TEXT NOT NULL\n",
    ");\n"
   ]
  },
  {
   "cell_type": "code",
   "execution_count": 196,
   "metadata": {},
   "outputs": [
    {
     "name": "stdout",
     "output_type": "stream",
     "text": [
      "The sql extension is already loaded. To reload it, use:\n",
      "  %reload_ext sql\n"
     ]
    },
    {
     "data": {
      "text/plain": [
       "'Connected: @CourseData.db'"
      ]
     },
     "execution_count": 196,
     "metadata": {},
     "output_type": "execute_result"
    }
   ],
   "source": [
    "%load_ext sql\n",
    "%sql sqlite:///CourseData.db\n",
    "\n",
    "    "
   ]
  },
  {
   "cell_type": "code",
   "execution_count": 197,
   "metadata": {},
   "outputs": [
    {
     "data": {
      "text/plain": [
       "'Connected: @CourseData.db'"
      ]
     },
     "execution_count": 197,
     "metadata": {},
     "output_type": "execute_result"
    }
   ],
   "source": [
    "%%sql\n",
    "sqlite:///CourseData.db\n"
   ]
  },
  {
   "cell_type": "code",
   "execution_count": 198,
   "metadata": {},
   "outputs": [
    {
     "name": "stdout",
     "output_type": "stream",
     "text": [
      " * sqlite:///CourseData.db\n",
      "1105 rows affected.\n"
     ]
    },
    {
     "data": {
      "text/plain": [
       "[]"
      ]
     },
     "execution_count": 198,
     "metadata": {},
     "output_type": "execute_result"
    }
   ],
   "source": [
    "%%sql\n",
    "INSERT INTO INSTRUCTORS (Primary_instructor)\n",
    "SELECT DISTINCT Primary_instructor\n",
    "FROM import_courses;\n"
   ]
  },
  {
   "cell_type": "code",
   "execution_count": 199,
   "metadata": {},
   "outputs": [
    {
     "name": "stdout",
     "output_type": "stream",
     "text": [
      " * sqlite:///CourseData.db\n",
      "208 rows affected.\n"
     ]
    },
    {
     "data": {
      "text/plain": [
       "[]"
      ]
     },
     "execution_count": 199,
     "metadata": {},
     "output_type": "execute_result"
    }
   ],
   "source": [
    "%%sql\n",
    "INSERT INTO CLASSROOMS (Location)\n",
    "SELECT DISTINCT Location\n",
    "    FROM import_course_meetings;\n"
   ]
  },
  {
   "cell_type": "code",
   "execution_count": 200,
   "metadata": {},
   "outputs": [
    {
     "name": "stdout",
     "output_type": "stream",
     "text": [
      " * sqlite:///CourseData.db\n",
      "10 rows affected.\n"
     ]
    },
    {
     "data": {
      "text/plain": [
       "[]"
      ]
     },
     "execution_count": 200,
     "metadata": {},
     "output_type": "execute_result"
    }
   ],
   "source": [
    "%%sql\n",
    "INSERT INTO SCHEDULES (LID, Day, Start, End, Meetings, Timecodes)\n",
    "SELECT DISTINCT LID, Day, Start, End, Meetings, Timecodes\n",
    "FROM import_course_meetings\n",
    "    JOIN CLASSROOMS ON (CLASSROOMS.Location=import_course_meetings.location)\n",
    "    JOIN import_courses ON (import_courses.crn=import_course_meetings.crn AND import_courses.term=import_course_meetings.term)\n",
    "    Limit 10\n",
    "    ;\n",
    " "
   ]
  },
  {
   "cell_type": "code",
   "execution_count": 202,
   "metadata": {},
   "outputs": [
    {
     "name": "stdout",
     "output_type": "stream",
     "text": [
      " * sqlite:///CourseData.db\n",
      "2221 rows affected.\n"
     ]
    },
    {
     "data": {
      "text/plain": [
       "[]"
      ]
     },
     "execution_count": 202,
     "metadata": {},
     "output_type": "execute_result"
    }
   ],
   "source": [
    "%%sql\n",
    "INSERT INTO COURSES (Program_code, Program_name, Catalog_Id, course_title, credits, prereqs, coreqs, fees, attributes, description)\n",
    "SELECT DISTINCT Program_code, Program_name, Catalog_Id, course_title, credits, prereqs, coreqs, fees, attributes, description\n",
    "FROM import_CourseCatalogs\n",
    "\n",
    "\n"
   ]
  },
  {
   "cell_type": "code",
   "execution_count": 205,
   "metadata": {},
   "outputs": [
    {
     "name": "stdout",
     "output_type": "stream",
     "text": [
      " * sqlite:///CourseData.db\n",
      "(sqlite3.OperationalError) no such column: SCID [SQL: 'INSERT INTO SECTIONS (SCID, CID, Term, IID, act, rem, cap, CRN, section, Title)\\nSELECT DISTINCT SCID, CID, Term, IID, act, rem, cap, CRN, section, Title\\nFROM import_courses'] (Background on this error at: http://sqlalche.me/e/e3q8)\n"
     ]
    }
   ],
   "source": [
    "%%sql\n",
    "INSERT INTO SECTIONS (SCID, CID, Term, IID, act, rem, cap, CRN, section, Title)\n",
    "SELECT DISTINCT SCID, CID, Term, IID, act, rem, cap, CRN, section, Title\n",
    "FROM import_courses\n"
   ]
  },
  {
   "cell_type": "code",
   "execution_count": null,
   "metadata": {},
   "outputs": [],
   "source": []
  },
  {
   "cell_type": "code",
   "execution_count": null,
   "metadata": {},
   "outputs": [],
   "source": []
  },
  {
   "cell_type": "code",
   "execution_count": null,
   "metadata": {},
   "outputs": [],
   "source": []
  }
 ],
 "metadata": {
  "kernelspec": {
   "display_name": "Python 3",
   "language": "python",
   "name": "python3"
  },
  "language_info": {
   "codemirror_mode": {
    "name": "ipython",
    "version": 3
   },
   "file_extension": ".py",
   "mimetype": "text/x-python",
   "name": "python",
   "nbconvert_exporter": "python",
   "pygments_lexer": "ipython3",
   "version": "3.6.5"
  }
 },
 "nbformat": 4,
 "nbformat_minor": 2
}
