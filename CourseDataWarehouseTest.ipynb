{
 "cells": [
  {
   "cell_type": "markdown",
   "metadata": {},
   "source": [
    "# Data Warehouse\n"
   ]
  },
  {
   "cell_type": "markdown",
   "metadata": {},
   "source": [
    "#### Load Data"
   ]
  },
  {
   "cell_type": "code",
   "execution_count": 1,
   "metadata": {},
   "outputs": [],
   "source": [
    "%load_ext sql"
   ]
  },
  {
   "cell_type": "code",
   "execution_count": 2,
   "metadata": {},
   "outputs": [
    {
     "data": {
      "text/plain": [
       "'Connected: @CourseDataWarehouse.db'"
      ]
     },
     "execution_count": 2,
     "metadata": {},
     "output_type": "execute_result"
    }
   ],
   "source": [
    "%sql sqlite:///CourseDataWarehouse.db"
   ]
  },
  {
   "cell_type": "markdown",
   "metadata": {},
   "source": [
    "#### Drop Tables"
   ]
  },
  {
   "cell_type": "code",
   "execution_count": 3,
   "metadata": {},
   "outputs": [
    {
     "name": "stdout",
     "output_type": "stream",
     "text": [
      " * sqlite:///CourseDataWarehouse.db\n",
      "Done.\n",
      "Done.\n",
      "Done.\n",
      "Done.\n",
      "Done.\n"
     ]
    },
    {
     "data": {
      "text/plain": [
       "[]"
      ]
     },
     "execution_count": 3,
     "metadata": {},
     "output_type": "execute_result"
    }
   ],
   "source": [
    "%%sql\n",
    "\n",
    "DROP TABLE IF EXISTS COURSES_DW;\n",
    "DROP TABLE IF EXISTS SECTIONS_DW;\n",
    "DROP TABLE IF EXISTS CLASSROOMS_DW;\n",
    "DROP TABLE IF EXISTS SCHEDULES_DW;\n",
    "DROP TABLE IF EXISTS INSTRUCTORS_DW;\n"
   ]
  },
  {
   "cell_type": "markdown",
   "metadata": {},
   "source": [
    "#### Create Courses_DW Table"
   ]
  },
  {
   "cell_type": "code",
   "execution_count": 4,
   "metadata": {},
   "outputs": [
    {
     "name": "stdout",
     "output_type": "stream",
     "text": [
      " * sqlite:///CourseDataWarehouse.db\n",
      "Done.\n"
     ]
    },
    {
     "data": {
      "text/plain": [
       "[]"
      ]
     },
     "execution_count": 4,
     "metadata": {},
     "output_type": "execute_result"
    }
   ],
   "source": [
    "%%sql\n",
    "CREATE TABLE COURSES_DW (\n",
    "    CID INTEGER PRIMARY KEY,\n",
    "    Catalog_ID VARCHAR NOT NULL,\n",
    "    Course_Title VARCHAR NOT NULL,\n",
    "    Credits VARCHAR NOT NULL\n",
    ");\n"
   ]
  },
  {
   "cell_type": "markdown",
   "metadata": {},
   "source": [
    "#### Create Sections_DW Table"
   ]
  },
  {
   "cell_type": "code",
   "execution_count": 5,
   "metadata": {},
   "outputs": [
    {
     "name": "stdout",
     "output_type": "stream",
     "text": [
      " * sqlite:///CourseDataWarehouse.db\n",
      "Done.\n"
     ]
    },
    {
     "data": {
      "text/plain": [
       "[]"
      ]
     },
     "execution_count": 5,
     "metadata": {},
     "output_type": "execute_result"
    }
   ],
   "source": [
    "%%sql\n",
    "CREATE TABLE SECTIONS_DW (\n",
    "    SID INTEGER PRIMARY KEY,\n",
    "    Catalog_ID VARCHAR NOT NULL,\n",
    "    Meetings VARCHAR NOT NULL,\n",
    "    Primary_instructor VARCHAR NOT NULL,\n",
    "    Title VARCHAR NOT NULL,\n",
    "    Term VARCHAR NOT NULL,\n",
    "    act INTEGER NOT NULL,\n",
    "    CRN INTEGER NOT NULL,\n",
    "    FOREIGN KEY (Catalog_ID) REFERENCES COURSES_DW (Catalog_ID),\n",
    "    FOREIGN KEY (Meetings) REFERENCES SCHEDULES_DW (Meetings),\n",
    "    FOREIGN KEY (Primary_instructor) REFERENCES INSTRUCTORS_DW (Primary_instructor)\n",
    ");\n"
   ]
  },
  {
   "cell_type": "markdown",
   "metadata": {},
   "source": [
    "#### Create Classroomw_DW"
   ]
  },
  {
   "cell_type": "code",
   "execution_count": 6,
   "metadata": {},
   "outputs": [
    {
     "name": "stdout",
     "output_type": "stream",
     "text": [
      " * sqlite:///CourseDataWarehouse.db\n",
      "Done.\n"
     ]
    },
    {
     "data": {
      "text/plain": [
       "[]"
      ]
     },
     "execution_count": 6,
     "metadata": {},
     "output_type": "execute_result"
    }
   ],
   "source": [
    "%%sql\n",
    "CREATE TABLE CLASSROOMS_DW (\n",
    "    LID INTEGER PRIMARY KEY,\n",
    "    Location VARCHAR NOT NULL);\n"
   ]
  },
  {
   "cell_type": "markdown",
   "metadata": {},
   "source": [
    "#### Create Schedules_DW"
   ]
  },
  {
   "cell_type": "code",
   "execution_count": 7,
   "metadata": {},
   "outputs": [
    {
     "name": "stdout",
     "output_type": "stream",
     "text": [
      " * sqlite:///CourseDataWarehouse.db\n",
      "Done.\n"
     ]
    },
    {
     "data": {
      "text/plain": [
       "[]"
      ]
     },
     "execution_count": 7,
     "metadata": {},
     "output_type": "execute_result"
    }
   ],
   "source": [
    "%%sql\n",
    "CREATE TABLE SCHEDULES_DW (\n",
    "    SCID INTEGER PRIMARY KEY,\n",
    "    Day TEXT NOT NULL,\n",
    "    Start VARCHAR NOT NULL,\n",
    "    End VARCHAR NOT NULL,\n",
    "    Meetings VARCHAR NOT NULL\n",
    "    );\n"
   ]
  },
  {
   "cell_type": "markdown",
   "metadata": {},
   "source": [
    "#### Create Instructors_DW"
   ]
  },
  {
   "cell_type": "code",
   "execution_count": 8,
   "metadata": {},
   "outputs": [
    {
     "name": "stdout",
     "output_type": "stream",
     "text": [
      " * sqlite:///CourseDataWarehouse.db\n",
      "Done.\n"
     ]
    },
    {
     "data": {
      "text/plain": [
       "[]"
      ]
     },
     "execution_count": 8,
     "metadata": {},
     "output_type": "execute_result"
    }
   ],
   "source": [
    "%%sql\n",
    "CREATE TABLE INSTRUCTORS_DW (\n",
    "    IID INTEGER PRIMARY KEY,\n",
    "    Primary_instructor VARCHAR NOT NULL\n",
    ");\n"
   ]
  },
  {
   "cell_type": "markdown",
   "metadata": {},
   "source": [
    "#### Insert into Course_DW"
   ]
  },
  {
   "cell_type": "code",
   "execution_count": 9,
   "metadata": {},
   "outputs": [
    {
     "name": "stdout",
     "output_type": "stream",
     "text": [
      " * sqlite:///CourseDataWarehouse.db\n",
      "2221 rows affected.\n"
     ]
    },
    {
     "data": {
      "text/plain": [
       "[]"
      ]
     },
     "execution_count": 9,
     "metadata": {},
     "output_type": "execute_result"
    }
   ],
   "source": [
    "%%sql \n",
    "INSERT INTO COURSES_DW (Catalog_Id, course_title, credits)\n",
    "SELECT DISTINCT Catalog_Id, course_title, credits\n",
    "FROM COURSES;"
   ]
  },
  {
   "cell_type": "markdown",
   "metadata": {},
   "source": [
    "#### Insert into Classrooms_DW"
   ]
  },
  {
   "cell_type": "code",
   "execution_count": 10,
   "metadata": {},
   "outputs": [
    {
     "name": "stdout",
     "output_type": "stream",
     "text": [
      " * sqlite:///CourseDataWarehouse.db\n",
      "208 rows affected.\n"
     ]
    },
    {
     "data": {
      "text/plain": [
       "[]"
      ]
     },
     "execution_count": 10,
     "metadata": {},
     "output_type": "execute_result"
    }
   ],
   "source": [
    "%%sql \n",
    "INSERT INTO CLASSROOMS_DW (Location)\n",
    "SELECT DISTINCT Location\n",
    "FROM CLASSROOMS;"
   ]
  },
  {
   "cell_type": "markdown",
   "metadata": {},
   "source": [
    "#### Insert into Instructors_DW"
   ]
  },
  {
   "cell_type": "code",
   "execution_count": 11,
   "metadata": {},
   "outputs": [
    {
     "name": "stdout",
     "output_type": "stream",
     "text": [
      " * sqlite:///CourseDataWarehouse.db\n",
      "1105 rows affected.\n"
     ]
    },
    {
     "data": {
      "text/plain": [
       "[]"
      ]
     },
     "execution_count": 11,
     "metadata": {},
     "output_type": "execute_result"
    }
   ],
   "source": [
    "%%sql \n",
    "INSERT INTO INSTRUCTORS_DW (Primary_instructor)\n",
    "SELECT DISTINCT Primary_instructor\n",
    "FROM INSTRUCTORS;"
   ]
  },
  {
   "cell_type": "markdown",
   "metadata": {},
   "source": [
    "#### Insert into Schedules_DW"
   ]
  },
  {
   "cell_type": "code",
   "execution_count": 12,
   "metadata": {},
   "outputs": [
    {
     "name": "stdout",
     "output_type": "stream",
     "text": [
      " * sqlite:///CourseDataWarehouse.db\n",
      "10 rows affected.\n"
     ]
    },
    {
     "data": {
      "text/plain": [
       "[]"
      ]
     },
     "execution_count": 12,
     "metadata": {},
     "output_type": "execute_result"
    }
   ],
   "source": [
    "%%sql \n",
    "INSERT INTO SCHEDULES_DW (Day, Start, End, Meetings)\n",
    "SELECT DISTINCT Day, Start, End, Meetings\n",
    "FROM SCHEDULES;"
   ]
  },
  {
   "cell_type": "markdown",
   "metadata": {},
   "source": [
    "#### Insert into Sections_DW"
   ]
  },
  {
   "cell_type": "code",
   "execution_count": 13,
   "metadata": {},
   "outputs": [
    {
     "name": "stdout",
     "output_type": "stream",
     "text": [
      " * sqlite:///CourseDataWarehouse.db\n",
      "15938 rows affected.\n"
     ]
    },
    {
     "data": {
      "text/plain": [
       "[]"
      ]
     },
     "execution_count": 13,
     "metadata": {},
     "output_type": "execute_result"
    }
   ],
   "source": [
    "%%sql \n",
    "INSERT INTO SECTIONS_DW (Catalog_ID, Meetings, Primary_instructor, Title, Term, act, CRN)\n",
    "SELECT DISTINCT Catalog_ID, Meetings, Primary_instructor, Title, Term, act, CRN\n",
    "FROM SECTIONS\n",
    "  ;\n",
    "    "
   ]
  },
  {
   "cell_type": "markdown",
   "metadata": {},
   "source": [
    "#### Count the Number of Sections "
   ]
  },
  {
   "cell_type": "code",
   "execution_count": 14,
   "metadata": {},
   "outputs": [
    {
     "name": "stdout",
     "output_type": "stream",
     "text": [
      " * sqlite:///CourseDataWarehouse.db\n",
      "Done.\n"
     ]
    },
    {
     "data": {
      "text/html": [
       "<table>\n",
       "    <tr>\n",
       "        <th>COUNT (Title)</th>\n",
       "    </tr>\n",
       "    <tr>\n",
       "        <td>15938</td>\n",
       "    </tr>\n",
       "</table>"
      ],
      "text/plain": [
       "[(15938,)]"
      ]
     },
     "execution_count": 14,
     "metadata": {},
     "output_type": "execute_result"
    }
   ],
   "source": [
    "%%sql\n",
    "SELECT COUNT (Title)\n",
    "From SECTIONS_DW\n"
   ]
  },
  {
   "cell_type": "markdown",
   "metadata": {},
   "source": [
    "#### Find all Religious Studies Courses"
   ]
  },
  {
   "cell_type": "code",
   "execution_count": 15,
   "metadata": {},
   "outputs": [
    {
     "name": "stdout",
     "output_type": "stream",
     "text": [
      " * sqlite:///CourseDataWarehouse.db\n",
      "Done.\n"
     ]
    },
    {
     "data": {
      "text/html": [
       "<table>\n",
       "    <tr>\n",
       "        <th>SID</th>\n",
       "        <th>Catalog_ID</th>\n",
       "        <th>Meetings</th>\n",
       "        <th>Primary_instructor</th>\n",
       "        <th>Title</th>\n",
       "        <th>Term</th>\n",
       "        <th>act</th>\n",
       "        <th>CRN</th>\n",
       "    </tr>\n",
       "    <tr>\n",
       "        <td>1322</td>\n",
       "        <td>RS 0101A</td>\n",
       "        <td>[{&#x27;days&#x27;: &#x27;MR&#x27;, &#x27;times&#x27;: &#x27;1230pm-0145pm&#x27;, &#x27;dates&#x27;: &#x27;09/02-12/08&#x27;, &#x27;location&#x27;: &#x27;CNS 10&#x27;}]</td>\n",
       "        <td>Nancy A.  Dallavalle</td>\n",
       "        <td>Exploring Religion: Religion and the Critical Mind</td>\n",
       "        <td>Fall2014</td>\n",
       "        <td>20</td>\n",
       "        <td>72562</td>\n",
       "    </tr>\n",
       "    <tr>\n",
       "        <td>1323</td>\n",
       "        <td>RS 0101A</td>\n",
       "        <td>[{&#x27;days&#x27;: &#x27;MR&#x27;, &#x27;times&#x27;: &#x27;0200pm-0315pm&#x27;, &#x27;dates&#x27;: &#x27;09/02-12/08&#x27;, &#x27;location&#x27;: &#x27;CNS 106&#x27;}]</td>\n",
       "        <td>Stewart A  Moore</td>\n",
       "        <td>Exploring Religion: Religion and the Critical Mind</td>\n",
       "        <td>Fall2014</td>\n",
       "        <td>24</td>\n",
       "        <td>73116</td>\n",
       "    </tr>\n",
       "    <tr>\n",
       "        <td>1324</td>\n",
       "        <td>RS 0101A</td>\n",
       "        <td>[{&#x27;days&#x27;: &#x27;MR&#x27;, &#x27;times&#x27;: &#x27;1100am-1215pm&#x27;, &#x27;dates&#x27;: &#x27;09/02-12/08&#x27;, &#x27;location&#x27;: &#x27;CNS 10&#x27;}]</td>\n",
       "        <td>Nancy A.  Dallavalle</td>\n",
       "        <td>Exploring Religion: Religion and the Critical Mind</td>\n",
       "        <td>Fall2014</td>\n",
       "        <td>27</td>\n",
       "        <td>72561</td>\n",
       "    </tr>\n",
       "    <tr>\n",
       "        <td>1325</td>\n",
       "        <td>RS 0101A</td>\n",
       "        <td>[{&#x27;days&#x27;: &#x27;MR&#x27;, &#x27;times&#x27;: &#x27;0330pm-0445pm&#x27;, &#x27;dates&#x27;: &#x27;09/02-12/08&#x27;, &#x27;location&#x27;: &#x27;CNS 6&#x27;}]</td>\n",
       "        <td>Stewart A  Moore</td>\n",
       "        <td>Exploring Religion: Religion and the Critical Mind</td>\n",
       "        <td>Fall2014</td>\n",
       "        <td>23</td>\n",
       "        <td>73117</td>\n",
       "    </tr>\n",
       "    <tr>\n",
       "        <td>1326</td>\n",
       "        <td>RS 0101C</td>\n",
       "        <td>[{&#x27;days&#x27;: &#x27;MR&#x27;, &#x27;times&#x27;: &#x27;1100am-1215pm&#x27;, &#x27;dates&#x27;: &#x27;09/02-12/08&#x27;, &#x27;location&#x27;: &#x27;CNS 206&#x27;}]</td>\n",
       "        <td>Maureen   Dewan</td>\n",
       "        <td>Exploring Religion: Common Questions, Traditional Response</td>\n",
       "        <td>Fall2014</td>\n",
       "        <td>25</td>\n",
       "        <td>71462</td>\n",
       "    </tr>\n",
       "    <tr>\n",
       "        <td>1327</td>\n",
       "        <td>RS 0101C</td>\n",
       "        <td>[{&#x27;days&#x27;: &#x27;MWR&#x27;, &#x27;times&#x27;: &#x27;0800am-0850am&#x27;, &#x27;dates&#x27;: &#x27;09/02-12/08&#x27;, &#x27;location&#x27;: &#x27;CNS 10&#x27;}]</td>\n",
       "        <td>John T.  Slotemaker</td>\n",
       "        <td>Exploring Religion: Common Questions, Traditional Response</td>\n",
       "        <td>Fall2014</td>\n",
       "        <td>26</td>\n",
       "        <td>71463</td>\n",
       "    </tr>\n",
       "    <tr>\n",
       "        <td>1328</td>\n",
       "        <td>RS 0101C</td>\n",
       "        <td>[{&#x27;days&#x27;: &#x27;MR&#x27;, &#x27;times&#x27;: &#x27;0930am-1020am&#x27;, &#x27;dates&#x27;: &#x27;09/02-12/08&#x27;, &#x27;location&#x27;: &#x27;CNS 10&#x27;}, {&#x27;days&#x27;: &#x27;W&#x27;, &#x27;times&#x27;: &#x27;0900am-0950am&#x27;, &#x27;dates&#x27;: &#x27;09/02-12/08&#x27;, &#x27;location&#x27;: &#x27;CNS 9&#x27;}]</td>\n",
       "        <td>John T.  Slotemaker</td>\n",
       "        <td>Exploring Religion: Common Questions, Traditional Response</td>\n",
       "        <td>Fall2014</td>\n",
       "        <td>24</td>\n",
       "        <td>71464</td>\n",
       "    </tr>\n",
       "    <tr>\n",
       "        <td>1329</td>\n",
       "        <td>RS 0101C</td>\n",
       "        <td>[{&#x27;days&#x27;: &#x27;M&#x27;, &#x27;times&#x27;: &#x27;0630pm-0900pm&#x27;, &#x27;dates&#x27;: &#x27;09/02-12/08&#x27;, &#x27;location&#x27;: &#x27;CNS 9&#x27;}]</td>\n",
       "        <td>Jeremy L.  Sabella</td>\n",
       "        <td>Exploring Religion: Common Questions, Traditional Response</td>\n",
       "        <td>Fall2014</td>\n",
       "        <td>23</td>\n",
       "        <td>72051</td>\n",
       "    </tr>\n",
       "    <tr>\n",
       "        <td>1330</td>\n",
       "        <td>RS 0101C</td>\n",
       "        <td>[{&#x27;days&#x27;: &#x27;TF&#x27;, &#x27;times&#x27;: &#x27;1100am-1215pm&#x27;, &#x27;dates&#x27;: &#x27;09/02-12/08&#x27;, &#x27;location&#x27;: &#x27;CNS 304&#x27;}]</td>\n",
       "        <td>Lydia E. N.  Ciollo</td>\n",
       "        <td>Exploring Religion: Common Questions, Traditional Response</td>\n",
       "        <td>Fall2014</td>\n",
       "        <td>25</td>\n",
       "        <td>71707</td>\n",
       "    </tr>\n",
       "    <tr>\n",
       "        <td>1331</td>\n",
       "        <td>RS 0101C</td>\n",
       "        <td>[{&#x27;days&#x27;: &#x27;TF&#x27;, &#x27;times&#x27;: &#x27;0200pm-0315pm&#x27;, &#x27;dates&#x27;: &#x27;09/02-12/08&#x27;, &#x27;location&#x27;: &#x27;BNW 131&#x27;}]</td>\n",
       "        <td>Lydia E. N.  Ciollo</td>\n",
       "        <td>Exploring Religion: Common Questions, Traditional Response</td>\n",
       "        <td>Fall2014</td>\n",
       "        <td>20</td>\n",
       "        <td>72275</td>\n",
       "    </tr>\n",
       "    <tr>\n",
       "        <td>1332</td>\n",
       "        <td>RS 0101C</td>\n",
       "        <td>[{&#x27;days&#x27;: &#x27;MR&#x27;, &#x27;times&#x27;: &#x27;0800am-0915am&#x27;, &#x27;dates&#x27;: &#x27;09/02-12/08&#x27;, &#x27;location&#x27;: &#x27;DMH 347&#x27;}]</td>\n",
       "        <td>Martin T.  Nguyen</td>\n",
       "        <td>Exploring Religion: Common Questions, Traditional Response</td>\n",
       "        <td>Fall2014</td>\n",
       "        <td>23</td>\n",
       "        <td>72970</td>\n",
       "    </tr>\n",
       "    <tr>\n",
       "        <td>1333</td>\n",
       "        <td>RS 0101C</td>\n",
       "        <td>[{&#x27;days&#x27;: &#x27;MR&#x27;, &#x27;times&#x27;: &#x27;0930am-1045am&#x27;, &#x27;dates&#x27;: &#x27;09/02-12/08&#x27;, &#x27;location&#x27;: &#x27;DMH 347&#x27;}]</td>\n",
       "        <td>Martin T.  Nguyen</td>\n",
       "        <td>Exploring Religion: Common Questions, Traditional Response</td>\n",
       "        <td>Fall2014</td>\n",
       "        <td>25</td>\n",
       "        <td>72971</td>\n",
       "    </tr>\n",
       "    <tr>\n",
       "        <td>1334</td>\n",
       "        <td>RS 0101C</td>\n",
       "        <td>[{&#x27;days&#x27;: &#x27;MW&#x27;, &#x27;times&#x27;: &#x27;0500pm-0615pm&#x27;, &#x27;dates&#x27;: &#x27;09/02-12/08&#x27;, &#x27;location&#x27;: &#x27;BNW 341&#x27;}]</td>\n",
       "        <td>Mareike   Koertner</td>\n",
       "        <td>Exploring Religion: Common Questions, Traditional Response</td>\n",
       "        <td>Fall2014</td>\n",
       "        <td>15</td>\n",
       "        <td>73132</td>\n",
       "    </tr>\n",
       "    <tr>\n",
       "        <td>1335</td>\n",
       "        <td>RS 0101D</td>\n",
       "        <td>[{&#x27;days&#x27;: &#x27;TWF&#x27;, &#x27;times&#x27;: &#x27;0800am-0850am&#x27;, &#x27;dates&#x27;: &#x27;09/02-12/08&#x27;, &#x27;location&#x27;: &#x27;DSB 106&#x27;}]</td>\n",
       "        <td>Francis T.  Hannafey</td>\n",
       "        <td>Exploring Religion: Religion in a Comparative Key</td>\n",
       "        <td>Fall2014</td>\n",
       "        <td>25</td>\n",
       "        <td>71465</td>\n",
       "    </tr>\n",
       "    <tr>\n",
       "        <td>1336</td>\n",
       "        <td>RS 0101D</td>\n",
       "        <td>[{&#x27;days&#x27;: &#x27;TF&#x27;, &#x27;times&#x27;: &#x27;0930am-1020am&#x27;, &#x27;dates&#x27;: &#x27;09/02-12/08&#x27;, &#x27;location&#x27;: &#x27;DSB 106&#x27;}, {&#x27;days&#x27;: &#x27;W&#x27;, &#x27;times&#x27;: &#x27;0900am-0950am&#x27;, &#x27;dates&#x27;: &#x27;09/02-12/08&#x27;, &#x27;location&#x27;: &#x27;DSB 106&#x27;}]</td>\n",
       "        <td>Francis T.  Hannafey</td>\n",
       "        <td>Exploring Religion: Religion in a Comparative Key</td>\n",
       "        <td>Fall2014</td>\n",
       "        <td>24</td>\n",
       "        <td>71466</td>\n",
       "    </tr>\n",
       "</table>"
      ],
      "text/plain": [
       "[(1322, 'RS 0101A', \"[{'days': 'MR', 'times': '1230pm-0145pm', 'dates': '09/02-12/08', 'location': 'CNS 10'}]\", 'Nancy A.  Dallavalle', 'Exploring Religion: Religion and the Critical Mind', 'Fall2014', 20, 72562),\n",
       " (1323, 'RS 0101A', \"[{'days': 'MR', 'times': '0200pm-0315pm', 'dates': '09/02-12/08', 'location': 'CNS 106'}]\", 'Stewart A  Moore', 'Exploring Religion: Religion and the Critical Mind', 'Fall2014', 24, 73116),\n",
       " (1324, 'RS 0101A', \"[{'days': 'MR', 'times': '1100am-1215pm', 'dates': '09/02-12/08', 'location': 'CNS 10'}]\", 'Nancy A.  Dallavalle', 'Exploring Religion: Religion and the Critical Mind', 'Fall2014', 27, 72561),\n",
       " (1325, 'RS 0101A', \"[{'days': 'MR', 'times': '0330pm-0445pm', 'dates': '09/02-12/08', 'location': 'CNS 6'}]\", 'Stewart A  Moore', 'Exploring Religion: Religion and the Critical Mind', 'Fall2014', 23, 73117),\n",
       " (1326, 'RS 0101C', \"[{'days': 'MR', 'times': '1100am-1215pm', 'dates': '09/02-12/08', 'location': 'CNS 206'}]\", 'Maureen   Dewan', 'Exploring Religion: Common Questions, Traditional Response', 'Fall2014', 25, 71462),\n",
       " (1327, 'RS 0101C', \"[{'days': 'MWR', 'times': '0800am-0850am', 'dates': '09/02-12/08', 'location': 'CNS 10'}]\", 'John T.  Slotemaker', 'Exploring Religion: Common Questions, Traditional Response', 'Fall2014', 26, 71463),\n",
       " (1328, 'RS 0101C', \"[{'days': 'MR', 'times': '0930am-1020am', 'dates': '09/02-12/08', 'location': 'CNS 10'}, {'days': 'W', 'times': '0900am-0950am', 'dates': '09/02-12/08', 'location': 'CNS 9'}]\", 'John T.  Slotemaker', 'Exploring Religion: Common Questions, Traditional Response', 'Fall2014', 24, 71464),\n",
       " (1329, 'RS 0101C', \"[{'days': 'M', 'times': '0630pm-0900pm', 'dates': '09/02-12/08', 'location': 'CNS 9'}]\", 'Jeremy L.  Sabella', 'Exploring Religion: Common Questions, Traditional Response', 'Fall2014', 23, 72051),\n",
       " (1330, 'RS 0101C', \"[{'days': 'TF', 'times': '1100am-1215pm', 'dates': '09/02-12/08', 'location': 'CNS 304'}]\", 'Lydia E. N.  Ciollo', 'Exploring Religion: Common Questions, Traditional Response', 'Fall2014', 25, 71707),\n",
       " (1331, 'RS 0101C', \"[{'days': 'TF', 'times': '0200pm-0315pm', 'dates': '09/02-12/08', 'location': 'BNW 131'}]\", 'Lydia E. N.  Ciollo', 'Exploring Religion: Common Questions, Traditional Response', 'Fall2014', 20, 72275),\n",
       " (1332, 'RS 0101C', \"[{'days': 'MR', 'times': '0800am-0915am', 'dates': '09/02-12/08', 'location': 'DMH 347'}]\", 'Martin T.  Nguyen', 'Exploring Religion: Common Questions, Traditional Response', 'Fall2014', 23, 72970),\n",
       " (1333, 'RS 0101C', \"[{'days': 'MR', 'times': '0930am-1045am', 'dates': '09/02-12/08', 'location': 'DMH 347'}]\", 'Martin T.  Nguyen', 'Exploring Religion: Common Questions, Traditional Response', 'Fall2014', 25, 72971),\n",
       " (1334, 'RS 0101C', \"[{'days': 'MW', 'times': '0500pm-0615pm', 'dates': '09/02-12/08', 'location': 'BNW 341'}]\", 'Mareike   Koertner', 'Exploring Religion: Common Questions, Traditional Response', 'Fall2014', 15, 73132),\n",
       " (1335, 'RS 0101D', \"[{'days': 'TWF', 'times': '0800am-0850am', 'dates': '09/02-12/08', 'location': 'DSB 106'}]\", 'Francis T.  Hannafey', 'Exploring Religion: Religion in a Comparative Key', 'Fall2014', 25, 71465),\n",
       " (1336, 'RS 0101D', \"[{'days': 'TF', 'times': '0930am-1020am', 'dates': '09/02-12/08', 'location': 'DSB 106'}, {'days': 'W', 'times': '0900am-0950am', 'dates': '09/02-12/08', 'location': 'DSB 106'}]\", 'Francis T.  Hannafey', 'Exploring Religion: Religion in a Comparative Key', 'Fall2014', 24, 71466)]"
      ]
     },
     "execution_count": 15,
     "metadata": {},
     "output_type": "execute_result"
    }
   ],
   "source": [
    "%%sql\n",
    "SELECT *\n",
    "FROM SECTIONS_DW\n",
    "WHERE Catalog_Id LIKE \"%RS%\"\n",
    "LIMIT 15\n"
   ]
  },
  {
   "cell_type": "markdown",
   "metadata": {},
   "source": [
    "#### FInd all Instructors in Descending Order"
   ]
  },
  {
   "cell_type": "code",
   "execution_count": 16,
   "metadata": {},
   "outputs": [
    {
     "name": "stdout",
     "output_type": "stream",
     "text": [
      " * sqlite:///CourseDataWarehouse.db\n",
      "Done.\n"
     ]
    },
    {
     "data": {
      "text/html": [
       "<table>\n",
       "    <tr>\n",
       "        <th>IID</th>\n",
       "        <th>Primary_instructor</th>\n",
       "    </tr>\n",
       "    <tr>\n",
       "        <td>564</td>\n",
       "        <td>primary_instructor</td>\n",
       "    </tr>\n",
       "    <tr>\n",
       "        <td>247</td>\n",
       "        <td>Zoe   Erotopoulos</td>\n",
       "    </tr>\n",
       "    <tr>\n",
       "        <td>734</td>\n",
       "        <td>Yohuru R.  Williams</td>\n",
       "    </tr>\n",
       "    <tr>\n",
       "        <td>237</td>\n",
       "        <td>Ying   Zhang</td>\n",
       "    </tr>\n",
       "    <tr>\n",
       "        <td>164</td>\n",
       "        <td>Yefim G.  Kriger</td>\n",
       "    </tr>\n",
       "    <tr>\n",
       "        <td>787</td>\n",
       "        <td>Yasir G.  Hamed</td>\n",
       "    </tr>\n",
       "    <tr>\n",
       "        <td>273</td>\n",
       "        <td>Yasin   Ozcelik</td>\n",
       "    </tr>\n",
       "    <tr>\n",
       "        <td>289</td>\n",
       "        <td>Yael   Eliasoph</td>\n",
       "    </tr>\n",
       "    <tr>\n",
       "        <td>792</td>\n",
       "        <td>Xuan   Wang</td>\n",
       "    </tr>\n",
       "    <tr>\n",
       "        <td>536</td>\n",
       "        <td>Xiomara A.  Brea</td>\n",
       "    </tr>\n",
       "</table>"
      ],
      "text/plain": [
       "[(564, 'primary_instructor'),\n",
       " (247, 'Zoe   Erotopoulos'),\n",
       " (734, 'Yohuru R.  Williams'),\n",
       " (237, 'Ying   Zhang'),\n",
       " (164, 'Yefim G.  Kriger'),\n",
       " (787, 'Yasir G.  Hamed'),\n",
       " (273, 'Yasin   Ozcelik'),\n",
       " (289, 'Yael   Eliasoph'),\n",
       " (792, 'Xuan   Wang'),\n",
       " (536, 'Xiomara A.  Brea')]"
      ]
     },
     "execution_count": 16,
     "metadata": {},
     "output_type": "execute_result"
    }
   ],
   "source": [
    "%%sql\n",
    "SELECT *\n",
    "FROM INSTRUCTORS_DW\n",
    "ORDER BY Primary_instructor DESC\n",
    "LIMIT 10\n",
    "  \n"
   ]
  },
  {
   "cell_type": "code",
   "execution_count": null,
   "metadata": {},
   "outputs": [],
   "source": []
  }
 ],
 "metadata": {
  "kernelspec": {
   "display_name": "Python 3",
   "language": "python",
   "name": "python3"
  },
  "language_info": {
   "codemirror_mode": {
    "name": "ipython",
    "version": 3
   },
   "file_extension": ".py",
   "mimetype": "text/x-python",
   "name": "python",
   "nbconvert_exporter": "python",
   "pygments_lexer": "ipython3",
   "version": "3.6.5"
  }
 },
 "nbformat": 4,
 "nbformat_minor": 2
}
