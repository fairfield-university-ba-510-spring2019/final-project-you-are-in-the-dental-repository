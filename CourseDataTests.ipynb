{
 "cells": [
  {
   "cell_type": "markdown",
   "metadata": {},
   "source": [
    "# Load Data"
   ]
  },
  {
   "cell_type": "code",
   "execution_count": 2,
   "metadata": {},
   "outputs": [
    {
     "data": {
      "text/plain": [
       "'Connected: @CourseData.db'"
      ]
     },
     "execution_count": 2,
     "metadata": {},
     "output_type": "execute_result"
    }
   ],
   "source": [
    "%load_ext sql\n",
    "%sql sqlite:///CourseData.db"
   ]
  },
  {
   "cell_type": "markdown",
   "metadata": {},
   "source": [
    "# Data Integrity\n",
    "\n",
    "##### Test our tables using basic query knowledhe from earler in the course."
   ]
  },
  {
   "cell_type": "code",
   "execution_count": 3,
   "metadata": {},
   "outputs": [
    {
     "name": "stdout",
     "output_type": "stream",
     "text": [
      " * sqlite:///CourseData.db\n",
      "Done.\n"
     ]
    },
    {
     "data": {
      "text/html": [
       "<table>\n",
       "    <tr>\n",
       "        <th>SID</th>\n",
       "        <th>Catalog_ID</th>\n",
       "        <th>Meetings</th>\n",
       "        <th>Primary_instructor</th>\n",
       "        <th>Title</th>\n",
       "        <th>Term</th>\n",
       "        <th>act</th>\n",
       "        <th>rem</th>\n",
       "        <th>cap</th>\n",
       "        <th>CRN</th>\n",
       "        <th>section</th>\n",
       "    </tr>\n",
       "    <tr>\n",
       "        <td>1</td>\n",
       "        <td>AC 0011</td>\n",
       "        <td>[{&#x27;days&#x27;: &#x27;TF&#x27;, &#x27;times&#x27;: &#x27;0800am-0915am&#x27;, &#x27;dates&#x27;: &#x27;09/02-12/08&#x27;, &#x27;location&#x27;: &#x27;DSB 105&#x27;}]</td>\n",
       "        <td>Michael P.  Coyne</td>\n",
       "        <td>Introduction to Financial Accounting</td>\n",
       "        <td>Fall2014</td>\n",
       "        <td>31</td>\n",
       "        <td>-31</td>\n",
       "        <td>0</td>\n",
       "        <td>70384</td>\n",
       "        <td>C01</td>\n",
       "    </tr>\n",
       "    <tr>\n",
       "        <td>2</td>\n",
       "        <td>AC 0011</td>\n",
       "        <td>[{&#x27;days&#x27;: &#x27;TF&#x27;, &#x27;times&#x27;: &#x27;0930am-1045am&#x27;, &#x27;dates&#x27;: &#x27;09/02-12/08&#x27;, &#x27;location&#x27;: &#x27;DSB 105&#x27;}]</td>\n",
       "        <td>Michael P.  Coyne</td>\n",
       "        <td>Introduction to Financial Accounting</td>\n",
       "        <td>Fall2014</td>\n",
       "        <td>31</td>\n",
       "        <td>-31</td>\n",
       "        <td>0</td>\n",
       "        <td>70385</td>\n",
       "        <td>C02</td>\n",
       "    </tr>\n",
       "    <tr>\n",
       "        <td>3</td>\n",
       "        <td>AC 0011</td>\n",
       "        <td>[{&#x27;days&#x27;: &#x27;TF&#x27;, &#x27;times&#x27;: &#x27;1230pm-0145pm&#x27;, &#x27;dates&#x27;: &#x27;09/02-12/08&#x27;, &#x27;location&#x27;: &#x27;DSB 105&#x27;}]</td>\n",
       "        <td>Michael P.  Coyne</td>\n",
       "        <td>Introduction to Financial Accounting</td>\n",
       "        <td>Fall2014</td>\n",
       "        <td>31</td>\n",
       "        <td>-31</td>\n",
       "        <td>0</td>\n",
       "        <td>70382</td>\n",
       "        <td>C03</td>\n",
       "    </tr>\n",
       "    <tr>\n",
       "        <td>4</td>\n",
       "        <td>AC 0011</td>\n",
       "        <td>[{&#x27;days&#x27;: &#x27;MR&#x27;, &#x27;times&#x27;: &#x27;1100am-1215pm&#x27;, &#x27;dates&#x27;: &#x27;09/02-12/08&#x27;, &#x27;location&#x27;: &#x27;DSB 111&#x27;}]</td>\n",
       "        <td>Rebecca I.  Bloch</td>\n",
       "        <td>Introduction to Financial Accounting</td>\n",
       "        <td>Fall2014</td>\n",
       "        <td>29</td>\n",
       "        <td>-29</td>\n",
       "        <td>0</td>\n",
       "        <td>70291</td>\n",
       "        <td>C04</td>\n",
       "    </tr>\n",
       "    <tr>\n",
       "        <td>5</td>\n",
       "        <td>AC 0011</td>\n",
       "        <td>[{&#x27;days&#x27;: &#x27;MR&#x27;, &#x27;times&#x27;: &#x27;1230pm-0145pm&#x27;, &#x27;dates&#x27;: &#x27;09/02-12/08&#x27;, &#x27;location&#x27;: &#x27;DSB 111&#x27;}]</td>\n",
       "        <td>Rebecca I.  Bloch</td>\n",
       "        <td>Introduction to Financial Accounting</td>\n",
       "        <td>Fall2014</td>\n",
       "        <td>30</td>\n",
       "        <td>-30</td>\n",
       "        <td>0</td>\n",
       "        <td>70350</td>\n",
       "        <td>C05</td>\n",
       "    </tr>\n",
       "</table>"
      ],
      "text/plain": [
       "[(1, 'AC 0011', \"[{'days': 'TF', 'times': '0800am-0915am', 'dates': '09/02-12/08', 'location': 'DSB 105'}]\", 'Michael P.  Coyne', 'Introduction to Financial Accounting', 'Fall2014', 31, -31, 0, 70384, 'C01'),\n",
       " (2, 'AC 0011', \"[{'days': 'TF', 'times': '0930am-1045am', 'dates': '09/02-12/08', 'location': 'DSB 105'}]\", 'Michael P.  Coyne', 'Introduction to Financial Accounting', 'Fall2014', 31, -31, 0, 70385, 'C02'),\n",
       " (3, 'AC 0011', \"[{'days': 'TF', 'times': '1230pm-0145pm', 'dates': '09/02-12/08', 'location': 'DSB 105'}]\", 'Michael P.  Coyne', 'Introduction to Financial Accounting', 'Fall2014', 31, -31, 0, 70382, 'C03'),\n",
       " (4, 'AC 0011', \"[{'days': 'MR', 'times': '1100am-1215pm', 'dates': '09/02-12/08', 'location': 'DSB 111'}]\", 'Rebecca I.  Bloch', 'Introduction to Financial Accounting', 'Fall2014', 29, -29, 0, 70291, 'C04'),\n",
       " (5, 'AC 0011', \"[{'days': 'MR', 'times': '1230pm-0145pm', 'dates': '09/02-12/08', 'location': 'DSB 111'}]\", 'Rebecca I.  Bloch', 'Introduction to Financial Accounting', 'Fall2014', 30, -30, 0, 70350, 'C05')]"
      ]
     },
     "execution_count": 3,
     "metadata": {},
     "output_type": "execute_result"
    }
   ],
   "source": [
    "%%sql\n",
    "SELECT *\n",
    "FROM SECTIONS\n",
    "Limit 5\n",
    "\n",
    ";"
   ]
  },
  {
   "cell_type": "markdown",
   "metadata": {},
   "source": [
    "# Data Duplicity\n",
    "\n",
    "#### Using queries to find duplicates and redundancies in the datasets"
   ]
  },
  {
   "cell_type": "code",
   "execution_count": 6,
   "metadata": {},
   "outputs": [
    {
     "ename": "SyntaxError",
     "evalue": "invalid syntax (<ipython-input-6-ec684a49e669>, line 1)",
     "output_type": "error",
     "traceback": [
      "\u001b[0;36m  File \u001b[0;32m\"<ipython-input-6-ec684a49e669>\"\u001b[0;36m, line \u001b[0;32m1\u001b[0m\n\u001b[0;31m    SELECT *\u001b[0m\n\u001b[0m             ^\u001b[0m\n\u001b[0;31mSyntaxError\u001b[0m\u001b[0;31m:\u001b[0m invalid syntax\n"
     ]
    }
   ],
   "source": [
    "SELECT * \n",
    "FROM COURSES, INSTRUCTORS\n",
    "JOIN( Catalog_ID, primary_instructor)\n",
    "FROM users\n",
    "\n",
    ";"
   ]
  },
  {
   "cell_type": "code",
   "execution_count": null,
   "metadata": {},
   "outputs": [],
   "source": []
  }
 ],
 "metadata": {
  "kernelspec": {
   "display_name": "Python 3",
   "language": "python",
   "name": "python3"
  },
  "language_info": {
   "codemirror_mode": {
    "name": "ipython",
    "version": 3
   },
   "file_extension": ".py",
   "mimetype": "text/x-python",
   "name": "python",
   "nbconvert_exporter": "python",
   "pygments_lexer": "ipython3",
   "version": "3.6.5"
  }
 },
 "nbformat": 4,
 "nbformat_minor": 2
}
