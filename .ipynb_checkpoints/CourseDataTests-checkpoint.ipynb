{
 "cells": [
  {
   "cell_type": "markdown",
   "metadata": {},
   "source": [
    "# Load Data"
   ]
  },
  {
   "cell_type": "code",
   "execution_count": 2,
   "metadata": {},
   "outputs": [
    {
     "data": {
      "text/plain": [
       "'Connected: @CourseData.db'"
      ]
     },
     "execution_count": 2,
     "metadata": {},
     "output_type": "execute_result"
    }
   ],
   "source": [
    "%load_ext sql\n",
    "%sql sqlite:///CourseData.db"
   ]
  },
  {
   "cell_type": "markdown",
   "metadata": {},
   "source": [
    "# Domain, Entity, & Relational Integrity\n",
    "\n",
    "##### Finding data duplicity and integrity, testing our tables using basic query knowledge from earler in the course."
   ]
  },
  {
   "cell_type": "code",
   "execution_count": 3,
   "metadata": {},
   "outputs": [
    {
     "name": "stdout",
     "output_type": "stream",
     "text": [
      " * sqlite:///CourseData.db\n",
      "Done.\n"
     ]
    },
    {
     "data": {
      "text/html": [
       "<table>\n",
       "    <tr>\n",
       "        <th>SID</th>\n",
       "        <th>Catalog_ID</th>\n",
       "        <th>Meetings</th>\n",
       "        <th>Primary_instructor</th>\n",
       "        <th>Title</th>\n",
       "        <th>Term</th>\n",
       "        <th>act</th>\n",
       "        <th>rem</th>\n",
       "        <th>cap</th>\n",
       "        <th>CRN</th>\n",
       "        <th>section</th>\n",
       "    </tr>\n",
       "    <tr>\n",
       "        <td>1</td>\n",
       "        <td>AC 0011</td>\n",
       "        <td>[{&#x27;days&#x27;: &#x27;TF&#x27;, &#x27;times&#x27;: &#x27;0800am-0915am&#x27;, &#x27;dates&#x27;: &#x27;09/02-12/08&#x27;, &#x27;location&#x27;: &#x27;DSB 105&#x27;}]</td>\n",
       "        <td>Michael P.  Coyne</td>\n",
       "        <td>Introduction to Financial Accounting</td>\n",
       "        <td>Fall2014</td>\n",
       "        <td>31</td>\n",
       "        <td>-31</td>\n",
       "        <td>0</td>\n",
       "        <td>70384</td>\n",
       "        <td>C01</td>\n",
       "    </tr>\n",
       "    <tr>\n",
       "        <td>2</td>\n",
       "        <td>AC 0011</td>\n",
       "        <td>[{&#x27;days&#x27;: &#x27;TF&#x27;, &#x27;times&#x27;: &#x27;0930am-1045am&#x27;, &#x27;dates&#x27;: &#x27;09/02-12/08&#x27;, &#x27;location&#x27;: &#x27;DSB 105&#x27;}]</td>\n",
       "        <td>Michael P.  Coyne</td>\n",
       "        <td>Introduction to Financial Accounting</td>\n",
       "        <td>Fall2014</td>\n",
       "        <td>31</td>\n",
       "        <td>-31</td>\n",
       "        <td>0</td>\n",
       "        <td>70385</td>\n",
       "        <td>C02</td>\n",
       "    </tr>\n",
       "    <tr>\n",
       "        <td>3</td>\n",
       "        <td>AC 0011</td>\n",
       "        <td>[{&#x27;days&#x27;: &#x27;TF&#x27;, &#x27;times&#x27;: &#x27;1230pm-0145pm&#x27;, &#x27;dates&#x27;: &#x27;09/02-12/08&#x27;, &#x27;location&#x27;: &#x27;DSB 105&#x27;}]</td>\n",
       "        <td>Michael P.  Coyne</td>\n",
       "        <td>Introduction to Financial Accounting</td>\n",
       "        <td>Fall2014</td>\n",
       "        <td>31</td>\n",
       "        <td>-31</td>\n",
       "        <td>0</td>\n",
       "        <td>70382</td>\n",
       "        <td>C03</td>\n",
       "    </tr>\n",
       "    <tr>\n",
       "        <td>4</td>\n",
       "        <td>AC 0011</td>\n",
       "        <td>[{&#x27;days&#x27;: &#x27;MR&#x27;, &#x27;times&#x27;: &#x27;1100am-1215pm&#x27;, &#x27;dates&#x27;: &#x27;09/02-12/08&#x27;, &#x27;location&#x27;: &#x27;DSB 111&#x27;}]</td>\n",
       "        <td>Rebecca I.  Bloch</td>\n",
       "        <td>Introduction to Financial Accounting</td>\n",
       "        <td>Fall2014</td>\n",
       "        <td>29</td>\n",
       "        <td>-29</td>\n",
       "        <td>0</td>\n",
       "        <td>70291</td>\n",
       "        <td>C04</td>\n",
       "    </tr>\n",
       "    <tr>\n",
       "        <td>5</td>\n",
       "        <td>AC 0011</td>\n",
       "        <td>[{&#x27;days&#x27;: &#x27;MR&#x27;, &#x27;times&#x27;: &#x27;1230pm-0145pm&#x27;, &#x27;dates&#x27;: &#x27;09/02-12/08&#x27;, &#x27;location&#x27;: &#x27;DSB 111&#x27;}]</td>\n",
       "        <td>Rebecca I.  Bloch</td>\n",
       "        <td>Introduction to Financial Accounting</td>\n",
       "        <td>Fall2014</td>\n",
       "        <td>30</td>\n",
       "        <td>-30</td>\n",
       "        <td>0</td>\n",
       "        <td>70350</td>\n",
       "        <td>C05</td>\n",
       "    </tr>\n",
       "</table>"
      ],
      "text/plain": [
       "[(1, 'AC 0011', \"[{'days': 'TF', 'times': '0800am-0915am', 'dates': '09/02-12/08', 'location': 'DSB 105'}]\", 'Michael P.  Coyne', 'Introduction to Financial Accounting', 'Fall2014', 31, -31, 0, 70384, 'C01'),\n",
       " (2, 'AC 0011', \"[{'days': 'TF', 'times': '0930am-1045am', 'dates': '09/02-12/08', 'location': 'DSB 105'}]\", 'Michael P.  Coyne', 'Introduction to Financial Accounting', 'Fall2014', 31, -31, 0, 70385, 'C02'),\n",
       " (3, 'AC 0011', \"[{'days': 'TF', 'times': '1230pm-0145pm', 'dates': '09/02-12/08', 'location': 'DSB 105'}]\", 'Michael P.  Coyne', 'Introduction to Financial Accounting', 'Fall2014', 31, -31, 0, 70382, 'C03'),\n",
       " (4, 'AC 0011', \"[{'days': 'MR', 'times': '1100am-1215pm', 'dates': '09/02-12/08', 'location': 'DSB 111'}]\", 'Rebecca I.  Bloch', 'Introduction to Financial Accounting', 'Fall2014', 29, -29, 0, 70291, 'C04'),\n",
       " (5, 'AC 0011', \"[{'days': 'MR', 'times': '1230pm-0145pm', 'dates': '09/02-12/08', 'location': 'DSB 111'}]\", 'Rebecca I.  Bloch', 'Introduction to Financial Accounting', 'Fall2014', 30, -30, 0, 70350, 'C05')]"
      ]
     },
     "execution_count": 3,
     "metadata": {},
     "output_type": "execute_result"
    }
   ],
   "source": [
    "%%sql\n",
    "SELECT *\n",
    "FROM SECTIONS\n",
    "Limit 5\n",
    "\n",
    ";"
   ]
  },
  {
   "cell_type": "code",
   "execution_count": 23,
   "metadata": {},
   "outputs": [
    {
     "name": "stdout",
     "output_type": "stream",
     "text": [
      " * sqlite:///CourseData.db\n",
      "Done.\n"
     ]
    },
    {
     "data": {
      "text/html": [
       "<table>\n",
       "    <tr>\n",
       "        <th>Day</th>\n",
       "        <th>Start</th>\n",
       "        <th>End</th>\n",
       "        <th>Meeting</th>\n",
       "    </tr>\n",
       "    <tr>\n",
       "        <td>F</td>\n",
       "        <td>2014-09-05T08:00:00</td>\n",
       "        <td>2014-09-05T09:15:00</td>\n",
       "        <td>[{&#x27;days&#x27;: &#x27;TF&#x27;, &#x27;times&#x27;: &#x27;0800am-0915am&#x27;, &#x27;dates&#x27;: &#x27;09/02-12/08&#x27;, &#x27;location&#x27;: &#x27;DSB 105&#x27;}]</td>\n",
       "    </tr>\n",
       "    <tr>\n",
       "        <td>F</td>\n",
       "        <td>2014-09-12T08:00:00</td>\n",
       "        <td>2014-09-12T09:15:00</td>\n",
       "        <td>[{&#x27;days&#x27;: &#x27;TF&#x27;, &#x27;times&#x27;: &#x27;0800am-0915am&#x27;, &#x27;dates&#x27;: &#x27;09/02-12/08&#x27;, &#x27;location&#x27;: &#x27;DSB 105&#x27;}]</td>\n",
       "    </tr>\n",
       "    <tr>\n",
       "        <td>F</td>\n",
       "        <td>2014-09-19T08:00:00</td>\n",
       "        <td>2014-09-19T09:15:00</td>\n",
       "        <td>[{&#x27;days&#x27;: &#x27;TF&#x27;, &#x27;times&#x27;: &#x27;0800am-0915am&#x27;, &#x27;dates&#x27;: &#x27;09/02-12/08&#x27;, &#x27;location&#x27;: &#x27;DSB 105&#x27;}]</td>\n",
       "    </tr>\n",
       "    <tr>\n",
       "        <td>F</td>\n",
       "        <td>2014-09-26T08:00:00</td>\n",
       "        <td>2014-09-26T09:15:00</td>\n",
       "        <td>[{&#x27;days&#x27;: &#x27;TF&#x27;, &#x27;times&#x27;: &#x27;0800am-0915am&#x27;, &#x27;dates&#x27;: &#x27;09/02-12/08&#x27;, &#x27;location&#x27;: &#x27;DSB 105&#x27;}]</td>\n",
       "    </tr>\n",
       "    <tr>\n",
       "        <td>F</td>\n",
       "        <td>2014-10-03T08:00:00</td>\n",
       "        <td>2014-10-03T09:15:00</td>\n",
       "        <td>[{&#x27;days&#x27;: &#x27;TF&#x27;, &#x27;times&#x27;: &#x27;0800am-0915am&#x27;, &#x27;dates&#x27;: &#x27;09/02-12/08&#x27;, &#x27;location&#x27;: &#x27;DSB 105&#x27;}]</td>\n",
       "    </tr>\n",
       "</table>"
      ],
      "text/plain": [
       "[('F', '2014-09-05T08:00:00', '2014-09-05T09:15:00', \"[{'days': 'TF', 'times': '0800am-0915am', 'dates': '09/02-12/08', 'location': 'DSB 105'}]\"),\n",
       " ('F', '2014-09-12T08:00:00', '2014-09-12T09:15:00', \"[{'days': 'TF', 'times': '0800am-0915am', 'dates': '09/02-12/08', 'location': 'DSB 105'}]\"),\n",
       " ('F', '2014-09-19T08:00:00', '2014-09-19T09:15:00', \"[{'days': 'TF', 'times': '0800am-0915am', 'dates': '09/02-12/08', 'location': 'DSB 105'}]\"),\n",
       " ('F', '2014-09-26T08:00:00', '2014-09-26T09:15:00', \"[{'days': 'TF', 'times': '0800am-0915am', 'dates': '09/02-12/08', 'location': 'DSB 105'}]\"),\n",
       " ('F', '2014-10-03T08:00:00', '2014-10-03T09:15:00', \"[{'days': 'TF', 'times': '0800am-0915am', 'dates': '09/02-12/08', 'location': 'DSB 105'}]\")]"
      ]
     },
     "execution_count": 23,
     "metadata": {},
     "output_type": "execute_result"
    }
   ],
   "source": [
    "%%sql\n",
    "\n",
    "SELECT Day, Start, End, Meetings as Meeting\n",
    "    FROM SCHEDULES\n",
    "    JOIN SECTIONS USING (Meetings)\n",
    "ORDER BY Day, Start\n",
    "Limit 5\n",
    "\n",
    ";"
   ]
  },
  {
   "cell_type": "code",
   "execution_count": 34,
   "metadata": {},
   "outputs": [
    {
     "name": "stdout",
     "output_type": "stream",
     "text": [
      " * sqlite:///CourseData.db\n",
      "Done.\n"
     ]
    },
    {
     "data": {
      "text/html": [
       "<table>\n",
       "    <tr>\n",
       "        <th>Primary_instructor</th>\n",
       "        <th>CRN</th>\n",
       "        <th>Term</th>\n",
       "        <th>Title</th>\n",
       "    </tr>\n",
       "    <tr>\n",
       "        <td>Benjamin   Fine</td>\n",
       "        <td>70045</td>\n",
       "        <td>Fall2014</td>\n",
       "        <td>Abstract Algebra</td>\n",
       "    </tr>\n",
       "    <tr>\n",
       "        <td>Janet   Striuli</td>\n",
       "        <td>76832</td>\n",
       "        <td>Fall2015</td>\n",
       "        <td>Abstract Algebra</td>\n",
       "    </tr>\n",
       "    <tr>\n",
       "        <td>Joseph B.  Dennin</td>\n",
       "        <td>75037</td>\n",
       "        <td>Fall2015</td>\n",
       "        <td>Abstract Algebra</td>\n",
       "    </tr>\n",
       "    <tr>\n",
       "        <td>Paul   Baginski</td>\n",
       "        <td>77029</td>\n",
       "        <td>Fall2016</td>\n",
       "        <td>Abstract Algebra</td>\n",
       "    </tr>\n",
       "    <tr>\n",
       "        <td>Janet   Striuli</td>\n",
       "        <td>71029</td>\n",
       "        <td>Fall2017</td>\n",
       "        <td>Abstract Algebra</td>\n",
       "    </tr>\n",
       "    <tr>\n",
       "        <td>Janet   Striuli</td>\n",
       "        <td>72944</td>\n",
       "        <td>Fall2017</td>\n",
       "        <td>Abstract Algebra</td>\n",
       "    </tr>\n",
       "    <tr>\n",
       "        <td>Paul   Baginski</td>\n",
       "        <td>72731</td>\n",
       "        <td>Fall2017</td>\n",
       "        <td>Abstract Algebra</td>\n",
       "    </tr>\n",
       "    <tr>\n",
       "        <td>Shawn T.  Rafalski</td>\n",
       "        <td>74029</td>\n",
       "        <td>Fall2018</td>\n",
       "        <td>Abstract Algebra</td>\n",
       "    </tr>\n",
       "</table>"
      ],
      "text/plain": [
       "[('Benjamin   Fine', 70045, 'Fall2014', 'Abstract Algebra'),\n",
       " ('Janet   Striuli', 76832, 'Fall2015', 'Abstract Algebra'),\n",
       " ('Joseph B.  Dennin', 75037, 'Fall2015', 'Abstract Algebra'),\n",
       " ('Paul   Baginski', 77029, 'Fall2016', 'Abstract Algebra'),\n",
       " ('Janet   Striuli', 71029, 'Fall2017', 'Abstract Algebra'),\n",
       " ('Janet   Striuli', 72944, 'Fall2017', 'Abstract Algebra'),\n",
       " ('Paul   Baginski', 72731, 'Fall2017', 'Abstract Algebra'),\n",
       " ('Shawn T.  Rafalski', 74029, 'Fall2018', 'Abstract Algebra')]"
      ]
     },
     "execution_count": 34,
     "metadata": {},
     "output_type": "execute_result"
    }
   ],
   "source": [
    "%%sql\n",
    "\n",
    "SELECT primary_instructor, CRN, Term, Title\n",
    "FROM sections\n",
    "WHERE Title = 'Abstract Algebra'\n",
    "ORDER BY Term, Primary_instructor\n",
    "Limit 10\n",
    "\n",
    "\n",
    ";"
   ]
  },
  {
   "cell_type": "markdown",
   "metadata": {},
   "source": [
    "###### Below example shows flawed data in the data set"
   ]
  },
  {
   "cell_type": "code",
   "execution_count": 28,
   "metadata": {},
   "outputs": [
    {
     "name": "stdout",
     "output_type": "stream",
     "text": [
      " * sqlite:///CourseData.db\n",
      "Done.\n"
     ]
    },
    {
     "data": {
      "text/html": [
       "<table>\n",
       "    <tr>\n",
       "        <th>Primary_instructor</th>\n",
       "        <th>Title</th>\n",
       "        <th>COUNT(*)</th>\n",
       "    </tr>\n",
       "    <tr>\n",
       "        <td>01/20-05/08</td>\n",
       "        <td>Continuing Project</td>\n",
       "        <td>2</td>\n",
       "    </tr>\n",
       "    <tr>\n",
       "        <td>09/02-12/30</td>\n",
       "        <td>Statistics for Life Sciences Lab</td>\n",
       "        <td>3</td>\n",
       "    </tr>\n",
       "    <tr>\n",
       "        <td>Aaron Quinn  Weinstein</td>\n",
       "        <td>Introduction to American Politics</td>\n",
       "        <td>3</td>\n",
       "    </tr>\n",
       "    <tr>\n",
       "        <td>Aaron R.  Van Dyke</td>\n",
       "        <td>Biochemistry I</td>\n",
       "        <td>10</td>\n",
       "    </tr>\n",
       "    <tr>\n",
       "        <td>Aaron R.  Van Dyke</td>\n",
       "        <td>Biochemistry I Lab</td>\n",
       "        <td>2</td>\n",
       "    </tr>\n",
       "</table>"
      ],
      "text/plain": [
       "[('01/20-05/08', 'Continuing Project', 2),\n",
       " ('09/02-12/30', 'Statistics for Life Sciences Lab', 3),\n",
       " ('Aaron Quinn  Weinstein', 'Introduction to American Politics', 3),\n",
       " ('Aaron R.  Van Dyke', 'Biochemistry I', 10),\n",
       " ('Aaron R.  Van Dyke', 'Biochemistry I Lab', 2)]"
      ]
     },
     "execution_count": 28,
     "metadata": {},
     "output_type": "execute_result"
    }
   ],
   "source": [
    "%%sql\n",
    "\n",
    "SELECT Primary_instructor, Title, COUNT(*)\n",
    "    FROM SECTIONS \n",
    "    GROUP BY Primary_instructor, Title\n",
    "    HAVING \n",
    "    COUNT(*) > 1\n",
    "    Limit 5\n",
    "    ;"
   ]
  },
  {
   "cell_type": "code",
   "execution_count": null,
   "metadata": {},
   "outputs": [],
   "source": []
  }
 ],
 "metadata": {
  "kernelspec": {
   "display_name": "Python 3",
   "language": "python",
   "name": "python3"
  },
  "language_info": {
   "codemirror_mode": {
    "name": "ipython",
    "version": 3
   },
   "file_extension": ".py",
   "mimetype": "text/x-python",
   "name": "python",
   "nbconvert_exporter": "python",
   "pygments_lexer": "ipython3",
   "version": "3.6.5"
  }
 },
 "nbformat": 4,
 "nbformat_minor": 2
}
