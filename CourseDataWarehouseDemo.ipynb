{
 "cells": [
  {
   "cell_type": "markdown",
   "metadata": {},
   "source": [
    "## Load Data"
   ]
  },
  {
   "cell_type": "code",
   "execution_count": 1,
   "metadata": {},
   "outputs": [
    {
     "data": {
      "text/plain": [
       "'Connected: @CourseDataWarehouse.db'"
      ]
     },
     "execution_count": 1,
     "metadata": {},
     "output_type": "execute_result"
    }
   ],
   "source": [
    "%load_ext sql\n",
    "%sql sqlite:///CourseDataWarehouse.db"
   ]
  },
  {
   "cell_type": "markdown",
   "metadata": {},
   "source": [
    "##### How many courses are taught in one room in one term?"
   ]
  },
  {
   "cell_type": "code",
   "execution_count": 2,
   "metadata": {},
   "outputs": [
    {
     "name": "stdout",
     "output_type": "stream",
     "text": [
      " * sqlite:///CourseDataWarehouse.db\n",
      "Done.\n"
     ]
    },
    {
     "data": {
      "text/html": [
       "<table>\n",
       "    <tr>\n",
       "        <th>SID</th>\n",
       "        <th>Catalog_ID</th>\n",
       "        <th>Meetings</th>\n",
       "        <th>Primary_instructor</th>\n",
       "        <th>Title</th>\n",
       "        <th>Term</th>\n",
       "        <th>act</th>\n",
       "        <th>CRN</th>\n",
       "    </tr>\n",
       "    <tr>\n",
       "        <td>1</td>\n",
       "        <td>AC 0011</td>\n",
       "        <td>[{&#x27;days&#x27;: &#x27;TF&#x27;, &#x27;times&#x27;: &#x27;0800am-0915am&#x27;, &#x27;dates&#x27;: &#x27;09/02-12/08&#x27;, &#x27;location&#x27;: &#x27;DSB 105&#x27;}]</td>\n",
       "        <td>Michael P.  Coyne</td>\n",
       "        <td>Introduction to Financial Accounting</td>\n",
       "        <td>Fall2014</td>\n",
       "        <td>31</td>\n",
       "        <td>70384</td>\n",
       "    </tr>\n",
       "    <tr>\n",
       "        <td>2</td>\n",
       "        <td>AC 0011</td>\n",
       "        <td>[{&#x27;days&#x27;: &#x27;TF&#x27;, &#x27;times&#x27;: &#x27;0930am-1045am&#x27;, &#x27;dates&#x27;: &#x27;09/02-12/08&#x27;, &#x27;location&#x27;: &#x27;DSB 105&#x27;}]</td>\n",
       "        <td>Michael P.  Coyne</td>\n",
       "        <td>Introduction to Financial Accounting</td>\n",
       "        <td>Fall2014</td>\n",
       "        <td>31</td>\n",
       "        <td>70385</td>\n",
       "    </tr>\n",
       "    <tr>\n",
       "        <td>3</td>\n",
       "        <td>AC 0011</td>\n",
       "        <td>[{&#x27;days&#x27;: &#x27;TF&#x27;, &#x27;times&#x27;: &#x27;1230pm-0145pm&#x27;, &#x27;dates&#x27;: &#x27;09/02-12/08&#x27;, &#x27;location&#x27;: &#x27;DSB 105&#x27;}]</td>\n",
       "        <td>Michael P.  Coyne</td>\n",
       "        <td>Introduction to Financial Accounting</td>\n",
       "        <td>Fall2014</td>\n",
       "        <td>31</td>\n",
       "        <td>70382</td>\n",
       "    </tr>\n",
       "    <tr>\n",
       "        <td>4</td>\n",
       "        <td>AC 0011</td>\n",
       "        <td>[{&#x27;days&#x27;: &#x27;MR&#x27;, &#x27;times&#x27;: &#x27;1100am-1215pm&#x27;, &#x27;dates&#x27;: &#x27;09/02-12/08&#x27;, &#x27;location&#x27;: &#x27;DSB 111&#x27;}]</td>\n",
       "        <td>Rebecca I.  Bloch</td>\n",
       "        <td>Introduction to Financial Accounting</td>\n",
       "        <td>Fall2014</td>\n",
       "        <td>29</td>\n",
       "        <td>70291</td>\n",
       "    </tr>\n",
       "    <tr>\n",
       "        <td>5</td>\n",
       "        <td>AC 0011</td>\n",
       "        <td>[{&#x27;days&#x27;: &#x27;MR&#x27;, &#x27;times&#x27;: &#x27;1230pm-0145pm&#x27;, &#x27;dates&#x27;: &#x27;09/02-12/08&#x27;, &#x27;location&#x27;: &#x27;DSB 111&#x27;}]</td>\n",
       "        <td>Rebecca I.  Bloch</td>\n",
       "        <td>Introduction to Financial Accounting</td>\n",
       "        <td>Fall2014</td>\n",
       "        <td>30</td>\n",
       "        <td>70350</td>\n",
       "    </tr>\n",
       "    <tr>\n",
       "        <td>6</td>\n",
       "        <td>AC 0011</td>\n",
       "        <td>[{&#x27;days&#x27;: &#x27;MR&#x27;, &#x27;times&#x27;: &#x27;0330pm-0445pm&#x27;, &#x27;dates&#x27;: &#x27;09/02-12/08&#x27;, &#x27;location&#x27;: &#x27;DSB 110A&#x27;}]</td>\n",
       "        <td>Rebecca I.  Bloch</td>\n",
       "        <td>Introduction to Financial Accounting</td>\n",
       "        <td>Fall2014</td>\n",
       "        <td>31</td>\n",
       "        <td>70381</td>\n",
       "    </tr>\n",
       "    <tr>\n",
       "        <td>7</td>\n",
       "        <td>AC 0011</td>\n",
       "        <td>[{&#x27;days&#x27;: &#x27;MR&#x27;, &#x27;times&#x27;: &#x27;0930am-1045am&#x27;, &#x27;dates&#x27;: &#x27;09/02-12/08&#x27;, &#x27;location&#x27;: &#x27;DSB 111&#x27;}]</td>\n",
       "        <td>Paul   Caster</td>\n",
       "        <td>Introduction to Financial Accounting</td>\n",
       "        <td>Fall2014</td>\n",
       "        <td>31</td>\n",
       "        <td>70383</td>\n",
       "    </tr>\n",
       "    <tr>\n",
       "        <td>8</td>\n",
       "        <td>AC 0011</td>\n",
       "        <td>[{&#x27;days&#x27;: &#x27;TF&#x27;, &#x27;times&#x27;: &#x27;0930am-1045am&#x27;, &#x27;dates&#x27;: &#x27;09/02-12/08&#x27;, &#x27;location&#x27;: &#x27;DSB 110A&#x27;}]</td>\n",
       "        <td>Jo Ann   Drusbosky</td>\n",
       "        <td>Introduction to Financial Accounting</td>\n",
       "        <td>Fall2014</td>\n",
       "        <td>32</td>\n",
       "        <td>70391</td>\n",
       "    </tr>\n",
       "    <tr>\n",
       "        <td>9</td>\n",
       "        <td>AC 0011</td>\n",
       "        <td>[{&#x27;days&#x27;: &#x27;TF&#x27;, &#x27;times&#x27;: &#x27;1100am-1215pm&#x27;, &#x27;dates&#x27;: &#x27;09/02-12/08&#x27;, &#x27;location&#x27;: &#x27;DSB 110A&#x27;}]</td>\n",
       "        <td>Jo Ann   Drusbosky</td>\n",
       "        <td>Introduction to Financial Accounting</td>\n",
       "        <td>Fall2014</td>\n",
       "        <td>33</td>\n",
       "        <td>71105</td>\n",
       "    </tr>\n",
       "    <tr>\n",
       "        <td>10</td>\n",
       "        <td>AC 0011</td>\n",
       "        <td>[{&#x27;days&#x27;: &#x27;TF&#x27;, &#x27;times&#x27;: &#x27;0200pm-0315pm&#x27;, &#x27;dates&#x27;: &#x27;09/02-12/08&#x27;, &#x27;location&#x27;: &#x27;DSB 105&#x27;}]</td>\n",
       "        <td>Jo Ann   Drusbosky</td>\n",
       "        <td>Introduction to Financial Accounting</td>\n",
       "        <td>Fall2014</td>\n",
       "        <td>32</td>\n",
       "        <td>71123</td>\n",
       "    </tr>\n",
       "</table>"
      ],
      "text/plain": [
       "[(1, 'AC 0011', \"[{'days': 'TF', 'times': '0800am-0915am', 'dates': '09/02-12/08', 'location': 'DSB 105'}]\", 'Michael P.  Coyne', 'Introduction to Financial Accounting', 'Fall2014', 31, 70384),\n",
       " (2, 'AC 0011', \"[{'days': 'TF', 'times': '0930am-1045am', 'dates': '09/02-12/08', 'location': 'DSB 105'}]\", 'Michael P.  Coyne', 'Introduction to Financial Accounting', 'Fall2014', 31, 70385),\n",
       " (3, 'AC 0011', \"[{'days': 'TF', 'times': '1230pm-0145pm', 'dates': '09/02-12/08', 'location': 'DSB 105'}]\", 'Michael P.  Coyne', 'Introduction to Financial Accounting', 'Fall2014', 31, 70382),\n",
       " (4, 'AC 0011', \"[{'days': 'MR', 'times': '1100am-1215pm', 'dates': '09/02-12/08', 'location': 'DSB 111'}]\", 'Rebecca I.  Bloch', 'Introduction to Financial Accounting', 'Fall2014', 29, 70291),\n",
       " (5, 'AC 0011', \"[{'days': 'MR', 'times': '1230pm-0145pm', 'dates': '09/02-12/08', 'location': 'DSB 111'}]\", 'Rebecca I.  Bloch', 'Introduction to Financial Accounting', 'Fall2014', 30, 70350),\n",
       " (6, 'AC 0011', \"[{'days': 'MR', 'times': '0330pm-0445pm', 'dates': '09/02-12/08', 'location': 'DSB 110A'}]\", 'Rebecca I.  Bloch', 'Introduction to Financial Accounting', 'Fall2014', 31, 70381),\n",
       " (7, 'AC 0011', \"[{'days': 'MR', 'times': '0930am-1045am', 'dates': '09/02-12/08', 'location': 'DSB 111'}]\", 'Paul   Caster', 'Introduction to Financial Accounting', 'Fall2014', 31, 70383),\n",
       " (8, 'AC 0011', \"[{'days': 'TF', 'times': '0930am-1045am', 'dates': '09/02-12/08', 'location': 'DSB 110A'}]\", 'Jo Ann   Drusbosky', 'Introduction to Financial Accounting', 'Fall2014', 32, 70391),\n",
       " (9, 'AC 0011', \"[{'days': 'TF', 'times': '1100am-1215pm', 'dates': '09/02-12/08', 'location': 'DSB 110A'}]\", 'Jo Ann   Drusbosky', 'Introduction to Financial Accounting', 'Fall2014', 33, 71105),\n",
       " (10, 'AC 0011', \"[{'days': 'TF', 'times': '0200pm-0315pm', 'dates': '09/02-12/08', 'location': 'DSB 105'}]\", 'Jo Ann   Drusbosky', 'Introduction to Financial Accounting', 'Fall2014', 32, 71123)]"
      ]
     },
     "execution_count": 2,
     "metadata": {},
     "output_type": "execute_result"
    }
   ],
   "source": [
    "%%sql\n",
    "SELECT *\n",
    "FROM SECTIONS_DW\n",
    "Limit 10\n",
    ";"
   ]
  },
  {
   "cell_type": "code",
   "execution_count": null,
   "metadata": {},
   "outputs": [],
   "source": []
  }
 ],
 "metadata": {
  "kernelspec": {
   "display_name": "Python 3",
   "language": "python",
   "name": "python3"
  },
  "language_info": {
   "codemirror_mode": {
    "name": "ipython",
    "version": 3
   },
   "file_extension": ".py",
   "mimetype": "text/x-python",
   "name": "python",
   "nbconvert_exporter": "python",
   "pygments_lexer": "ipython3",
   "version": "3.6.5"
  }
 },
 "nbformat": 4,
 "nbformat_minor": 2
}
